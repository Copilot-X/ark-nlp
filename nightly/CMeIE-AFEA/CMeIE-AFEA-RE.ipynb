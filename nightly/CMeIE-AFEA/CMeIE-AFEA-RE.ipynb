{
 "cells": [
  {
   "cell_type": "code",
   "execution_count": 1,
   "metadata": {},
   "outputs": [],
   "source": [
    "import warnings\n",
    "warnings.filterwarnings(\"ignore\")\n",
    "\n",
    "import os\n",
    "import json\n",
    "import jieba\n",
    "import torch\n",
    "import pickle\n",
    "import codecs\n",
    "import torch.nn as nn\n",
    "import torch.optim as optim\n",
    "import pandas as pd\n",
    "\n",
    "import sys\n",
    "sys.path.append('/home/shencj/workspace/code/nlp/Frame/ark-nlp-0.0.5/')\n",
    "\n",
    "import os\n",
    "os.environ[\"CUDA_VISIBLE_DEVICES\"] = '1'\n",
    "\n",
    "from ark_nlp.model.re.afea_bert import AFEABert\n",
    "from ark_nlp.model.re.afea_bert import AFEABertConfig\n",
    "from ark_nlp.model.re.afea_bert import Dataset\n",
    "from ark_nlp.model.re.afea_bert import Task\n",
    "from ark_nlp.model.re.afea_bert import get_default_model_optimizer\n",
    "from ark_nlp.model.re.afea_bert import Tokenizer\n",
    "from ark_nlp.factory.utils.seed import set_seed\n",
    "set_seed(42)"
   ]
  },
  {
   "cell_type": "markdown",
   "metadata": {},
   "source": [
    "### 一、数据读入与处理"
   ]
  },
  {
   "cell_type": "markdown",
   "metadata": {},
   "source": [
    "#### 1. 数据读入"
   ]
  },
  {
   "cell_type": "code",
   "execution_count": 2,
   "metadata": {},
   "outputs": [],
   "source": [
    "# 目录地址\n",
    "\n",
    "train_data_path = '/home/shencj/workspace/data/medical/CBLUE/CMeIE/CMeIE_train.json'\n",
    "dev_data_path = '/home/shencj/workspace/data/medical/CBLUE/CMeIE/CMeIE_dev.json'"
   ]
  },
  {
   "cell_type": "code",
   "execution_count": 3,
   "metadata": {},
   "outputs": [],
   "source": [
    "def data_preprocess(data_path):\n",
    "\n",
    "    data_list = []\n",
    "\n",
    "    with codecs.open(data_path, mode='r', encoding='utf8') as f:\n",
    "        lines = f.readlines()\n",
    "        for index_, line_ in enumerate(lines):\n",
    "            record_ = {}\n",
    "            line_ = json.loads(line_.strip())\n",
    "            record_['text'] = line_['text']\n",
    "            record_['entities'] = []\n",
    "            record_['triples'] = []\n",
    "            for triple_ in line_['spo_list']:\n",
    "                record_['entities'].append([\n",
    "                    triple_['subject'],\n",
    "                    '疾病',\n",
    "                    record_['text'].index(triple_['subject']),\n",
    "                    record_['text'].index(triple_['subject'])+ len(triple_['subject']) - 1,\n",
    "                ])\n",
    "                record_['entities'].append([\n",
    "                    triple_['object']['@value'],\n",
    "                    triple_['object_type']['@value'],\n",
    "                    record_['text'].index(triple_['object']['@value']),\n",
    "                    record_['text'].index(triple_['object']['@value']) + len(triple_['object']['@value']) - 1,\n",
    "                ])\n",
    "                record_['triples'].append([\n",
    "                    triple_['subject'],\n",
    "                    '疾病',\n",
    "                    record_['text'].index(triple_['subject']),\n",
    "                    record_['text'].index(triple_['subject'])+ len(triple_['subject']) - 1,\n",
    "                    triple_['predicate'],\n",
    "                    triple_['object']['@value'],\n",
    "                    triple_['object_type']['@value'],\n",
    "                    record_['text'].index(triple_['object']['@value']),\n",
    "                    record_['text'].index(triple_['object']['@value']) + len(triple_['object']['@value']) - 1,\n",
    "                ])\n",
    "            record_['entities'] = list(set([tuple(entity) for entity in record_['entities']]))\n",
    "            record_['entities'] = sorted(record_['entities'], key = lambda x: x[2])\n",
    "            data_list.append(record_)\n",
    "    return data_list\n",
    "\n",
    "train_data_list = data_preprocess(train_data_path)\n",
    "train_df = pd.DataFrame(train_data_list)\n",
    "\n",
    "dev_data_list = data_preprocess(dev_data_path)\n",
    "dev_df = pd.DataFrame(dev_data_list)"
   ]
  },
  {
   "cell_type": "code",
   "execution_count": 4,
   "metadata": {},
   "outputs": [
    {
     "data": {
      "text/html": [
       "<div>\n",
       "<style scoped>\n",
       "    .dataframe tbody tr th:only-of-type {\n",
       "        vertical-align: middle;\n",
       "    }\n",
       "\n",
       "    .dataframe tbody tr th {\n",
       "        vertical-align: top;\n",
       "    }\n",
       "\n",
       "    .dataframe thead th {\n",
       "        text-align: right;\n",
       "    }\n",
       "</style>\n",
       "<table border=\"1\" class=\"dataframe\">\n",
       "  <thead>\n",
       "    <tr style=\"text-align: right;\">\n",
       "      <th></th>\n",
       "      <th>text</th>\n",
       "      <th>entities</th>\n",
       "      <th>triples</th>\n",
       "    </tr>\n",
       "  </thead>\n",
       "  <tbody>\n",
       "    <tr>\n",
       "      <th>0</th>\n",
       "      <td>产后抑郁症@区分产后抑郁症与轻度情绪失调（产后忧郁或“婴儿忧郁”）是重要的，因为轻度情绪失调...</td>\n",
       "      <td>[(产后抑郁症, 疾病, 0, 4), (轻度情绪失调, 疾病, 14, 19)]</td>\n",
       "      <td>[[产后抑郁症, 疾病, 0, 4, 鉴别诊断, 轻度情绪失调, 疾病, 14, 19]]</td>\n",
       "    </tr>\n",
       "    <tr>\n",
       "      <th>1</th>\n",
       "      <td>类风湿关节炎@尺侧偏斜是由于MCP关节炎症造成的。</td>\n",
       "      <td>[(尺侧偏斜, 症状, 7, 10), (MCP关节炎症, 疾病, 14, 20)]</td>\n",
       "      <td>[[MCP关节炎症, 疾病, 14, 20, 临床表现, 尺侧偏斜, 症状, 7, 10]]</td>\n",
       "    </tr>\n",
       "    <tr>\n",
       "      <th>2</th>\n",
       "      <td>唇腭裂@ ### 腭瘘 | 存在差异 | 低 大约 10% 至 20% 颚成形术发生腭瘘。 ...</td>\n",
       "      <td>[(腭瘘, 疾病, 9, 10), (婴儿伤口, 社会学, 57, 60), (营养状况, ...</td>\n",
       "      <td>[[腭瘘, 疾病, 9, 10, 风险评估因素, 婴儿伤口, 社会学, 57, 60], [...</td>\n",
       "    </tr>\n",
       "    <tr>\n",
       "      <th>3</th>\n",
       "      <td>成人哮喘@ 应在低剂量 ICS 的基础上加用一种 LABA， 或将ICS增加到中等剂量。 成...</td>\n",
       "      <td>[(成人哮喘, 疾病, 0, 3), (哮喘, 疾病, 2, 3), (ICS, 药物, 1...</td>\n",
       "      <td>[[成人哮喘, 疾病, 0, 3, 药物治疗, ICS, 药物, 12, 14], [哮喘,...</td>\n",
       "    </tr>\n",
       "    <tr>\n",
       "      <th>4</th>\n",
       "      <td>口咽癌@[ 声嘶及发声障碍的评估 ](/topics/zh-cn/845) ### 手术或放...</td>\n",
       "      <td>[(口咽癌, 疾病, 0, 2), (放疗后吞咽困难, 疾病, 45, 51), (误吸, ...</td>\n",
       "      <td>[[口咽癌, 疾病, 0, 2, 并发症, 放疗后吞咽困难, 疾病, 45, 51], [口...</td>\n",
       "    </tr>\n",
       "    <tr>\n",
       "      <th>...</th>\n",
       "      <td>...</td>\n",
       "      <td>...</td>\n",
       "      <td>...</td>\n",
       "    </tr>\n",
       "    <tr>\n",
       "      <th>14334</th>\n",
       "      <td>【临床表现】 原发感染灶 多数脓毒症患者都有轻重不等的原发感染灶。 肝脾大 一般仅轻度增大,...</td>\n",
       "      <td>[(原发感染灶, 症状, 7, 11), (脓毒症, 疾病, 15, 17), (肝脾大, ...</td>\n",
       "      <td>[[脓毒症, 疾病, 15, 17, 临床表现, 肝脾大, 症状, 34, 36], [脓毒...</td>\n",
       "    </tr>\n",
       "    <tr>\n",
       "      <th>14335</th>\n",
       "      <td>【病理】 RS的病理改变主要表现在脑和肝脏。电镜检查可见线粒体肿胀和变形，线粒体嵴可消失，肝...</td>\n",
       "      <td>[(RS, 疾病, 5, 6), (脑, 部位, 17, 17), (肝脏, 部位, 19,...</td>\n",
       "      <td>[[RS, 疾病, 5, 6, 临床表现, 线粒体肿胀和变形, 症状, 28, 35], [...</td>\n",
       "    </tr>\n",
       "    <tr>\n",
       "      <th>14336</th>\n",
       "      <td>综上所述，目前对SSPE的诊断只要具备相应的临床表现（不一定十分典型）以及脑脊液麻疹抗体升高...</td>\n",
       "      <td>[(SSPE, 疾病, 8, 11), (干扰素, 药物, 121, 123)]</td>\n",
       "      <td>[[SSPE, 疾病, 8, 11, 药物治疗, 干扰素, 药物, 121, 123]]</td>\n",
       "    </tr>\n",
       "    <tr>\n",
       "      <th>14337</th>\n",
       "      <td>喉癌@所有最常见癌症里排名第11，上呼吸消化道的最常见癌症里排名第2。 喉癌@疾病的发生发展...</td>\n",
       "      <td>[(喉癌, 疾病, 0, 1), (烟酒嗜好, 社会学, 48, 51)]</td>\n",
       "      <td>[[喉癌, 疾病, 0, 1, 病因, 烟酒嗜好, 社会学, 48, 51]]</td>\n",
       "    </tr>\n",
       "    <tr>\n",
       "      <th>14338</th>\n",
       "      <td>慢性胰腺炎@ 自身免疫性胰腺炎的 JPS 诊断标准 要求必须在超声、CT 和/或 MRI 中...</td>\n",
       "      <td>[(自身免疫性胰腺炎, 疾病, 7, 14), (超声, 检查, 31, 32), (CT,...</td>\n",
       "      <td>[[自身免疫性胰腺炎, 疾病, 7, 14, 鉴别诊断, 胆管恶性肿瘤, 疾病, 225, ...</td>\n",
       "    </tr>\n",
       "  </tbody>\n",
       "</table>\n",
       "<p>14339 rows × 3 columns</p>\n",
       "</div>"
      ],
      "text/plain": [
       "                                                    text  \\\n",
       "0      产后抑郁症@区分产后抑郁症与轻度情绪失调（产后忧郁或“婴儿忧郁”）是重要的，因为轻度情绪失调...   \n",
       "1                              类风湿关节炎@尺侧偏斜是由于MCP关节炎症造成的。   \n",
       "2      唇腭裂@ ### 腭瘘 | 存在差异 | 低 大约 10% 至 20% 颚成形术发生腭瘘。 ...   \n",
       "3      成人哮喘@ 应在低剂量 ICS 的基础上加用一种 LABA， 或将ICS增加到中等剂量。 成...   \n",
       "4      口咽癌@[ 声嘶及发声障碍的评估 ](/topics/zh-cn/845) ### 手术或放...   \n",
       "...                                                  ...   \n",
       "14334  【临床表现】 原发感染灶 多数脓毒症患者都有轻重不等的原发感染灶。 肝脾大 一般仅轻度增大,...   \n",
       "14335  【病理】 RS的病理改变主要表现在脑和肝脏。电镜检查可见线粒体肿胀和变形，线粒体嵴可消失，肝...   \n",
       "14336  综上所述，目前对SSPE的诊断只要具备相应的临床表现（不一定十分典型）以及脑脊液麻疹抗体升高...   \n",
       "14337  喉癌@所有最常见癌症里排名第11，上呼吸消化道的最常见癌症里排名第2。 喉癌@疾病的发生发展...   \n",
       "14338  慢性胰腺炎@ 自身免疫性胰腺炎的 JPS 诊断标准 要求必须在超声、CT 和/或 MRI 中...   \n",
       "\n",
       "                                                entities  \\\n",
       "0              [(产后抑郁症, 疾病, 0, 4), (轻度情绪失调, 疾病, 14, 19)]   \n",
       "1             [(尺侧偏斜, 症状, 7, 10), (MCP关节炎症, 疾病, 14, 20)]   \n",
       "2      [(腭瘘, 疾病, 9, 10), (婴儿伤口, 社会学, 57, 60), (营养状况, ...   \n",
       "3      [(成人哮喘, 疾病, 0, 3), (哮喘, 疾病, 2, 3), (ICS, 药物, 1...   \n",
       "4      [(口咽癌, 疾病, 0, 2), (放疗后吞咽困难, 疾病, 45, 51), (误吸, ...   \n",
       "...                                                  ...   \n",
       "14334  [(原发感染灶, 症状, 7, 11), (脓毒症, 疾病, 15, 17), (肝脾大, ...   \n",
       "14335  [(RS, 疾病, 5, 6), (脑, 部位, 17, 17), (肝脏, 部位, 19,...   \n",
       "14336           [(SSPE, 疾病, 8, 11), (干扰素, 药物, 121, 123)]   \n",
       "14337              [(喉癌, 疾病, 0, 1), (烟酒嗜好, 社会学, 48, 51)]   \n",
       "14338  [(自身免疫性胰腺炎, 疾病, 7, 14), (超声, 检查, 31, 32), (CT,...   \n",
       "\n",
       "                                                 triples  \n",
       "0          [[产后抑郁症, 疾病, 0, 4, 鉴别诊断, 轻度情绪失调, 疾病, 14, 19]]  \n",
       "1         [[MCP关节炎症, 疾病, 14, 20, 临床表现, 尺侧偏斜, 症状, 7, 10]]  \n",
       "2      [[腭瘘, 疾病, 9, 10, 风险评估因素, 婴儿伤口, 社会学, 57, 60], [...  \n",
       "3      [[成人哮喘, 疾病, 0, 3, 药物治疗, ICS, 药物, 12, 14], [哮喘,...  \n",
       "4      [[口咽癌, 疾病, 0, 2, 并发症, 放疗后吞咽困难, 疾病, 45, 51], [口...  \n",
       "...                                                  ...  \n",
       "14334  [[脓毒症, 疾病, 15, 17, 临床表现, 肝脾大, 症状, 34, 36], [脓毒...  \n",
       "14335  [[RS, 疾病, 5, 6, 临床表现, 线粒体肿胀和变形, 症状, 28, 35], [...  \n",
       "14336       [[SSPE, 疾病, 8, 11, 药物治疗, 干扰素, 药物, 121, 123]]  \n",
       "14337            [[喉癌, 疾病, 0, 1, 病因, 烟酒嗜好, 社会学, 48, 51]]  \n",
       "14338  [[自身免疫性胰腺炎, 疾病, 7, 14, 鉴别诊断, 胆管恶性肿瘤, 疾病, 225, ...  \n",
       "\n",
       "[14339 rows x 3 columns]"
      ]
     },
     "execution_count": 4,
     "metadata": {},
     "output_type": "execute_result"
    }
   ],
   "source": [
    "train_df"
   ]
  },
  {
   "cell_type": "code",
   "execution_count": 5,
   "metadata": {},
   "outputs": [],
   "source": [
    "# 没有分类标为\"None\"\n",
    "categories = list(set([triple[4] for triples in train_df['triples'] for triple in triples])) + ['None']\n",
    "\n",
    "re_train_dataset = Dataset(train_df, categories=categories)\n",
    "re_dev_dataset = Dataset(dev_df, categories=categories,\n",
    "                         is_train=False)"
   ]
  },
  {
   "cell_type": "markdown",
   "metadata": {},
   "source": [
    "#### 2. 词典创建和生成分词器"
   ]
  },
  {
   "cell_type": "code",
   "execution_count": 6,
   "metadata": {},
   "outputs": [],
   "source": [
    "from transformers import AutoTokenizer\n",
    "bert_vocab = AutoTokenizer.from_pretrained('nghuyong/ernie-1.0')"
   ]
  },
  {
   "cell_type": "code",
   "execution_count": 7,
   "metadata": {},
   "outputs": [
    {
     "data": {
      "text/plain": [
       "22"
      ]
     },
     "execution_count": 7,
     "metadata": {},
     "output_type": "execute_result"
    }
   ],
   "source": [
    "entity_categories = list(set([entity[1] for entities in train_df['entities'] for entity in entities]))\n",
    "special_tokens = []\n",
    "for category in entity_categories:\n",
    "    special_tokens.append(f'[{category}]')\n",
    "    special_tokens.append(f'[/{category}]')\n",
    "bert_vocab.add_special_tokens({'additional_special_tokens': special_tokens})"
   ]
  },
  {
   "cell_type": "code",
   "execution_count": 8,
   "metadata": {},
   "outputs": [],
   "source": [
    "tokenizer = Tokenizer(bert_vocab, max_seq_len=200)"
   ]
  },
  {
   "cell_type": "markdown",
   "metadata": {},
   "source": [
    "#### 3. ID化"
   ]
  },
  {
   "cell_type": "code",
   "execution_count": 9,
   "metadata": {},
   "outputs": [],
   "source": [
    "re_train_dataset.convert_to_ids(tokenizer)\n",
    "re_dev_dataset.convert_to_ids(tokenizer)"
   ]
  },
  {
   "cell_type": "markdown",
   "metadata": {},
   "source": [
    "<br>\n",
    "\n",
    "### 二、模型构建"
   ]
  },
  {
   "cell_type": "markdown",
   "metadata": {},
   "source": [
    "#### 1. 模型参数设置"
   ]
  },
  {
   "cell_type": "code",
   "execution_count": 10,
   "metadata": {},
   "outputs": [],
   "source": [
    "bert_config = AFEABertConfig.from_pretrained('nghuyong/ernie-1.0',\n",
    "                                               num_labels=len(re_train_dataset.cat2id))"
   ]
  },
  {
   "cell_type": "markdown",
   "metadata": {},
   "source": [
    "#### 2. 模型创建"
   ]
  },
  {
   "cell_type": "code",
   "execution_count": 11,
   "metadata": {},
   "outputs": [
    {
     "name": "stderr",
     "output_type": "stream",
     "text": [
      "Some weights of the model checkpoint at nghuyong/ernie-1.0 were not used when initializing AFEABert: ['cls.predictions.bias', 'cls.predictions.transform.dense.weight', 'cls.predictions.transform.dense.bias', 'cls.predictions.transform.LayerNorm.weight', 'cls.predictions.transform.LayerNorm.bias', 'cls.predictions.decoder.weight', 'cls.predictions.decoder.bias']\n",
      "- This IS expected if you are initializing AFEABert from the checkpoint of a model trained on another task or with another architecture (e.g. initializing a BertForSequenceClassification model from a BertForPreTraining model).\n",
      "- This IS NOT expected if you are initializing AFEABert from the checkpoint of a model that you expect to be exactly identical (initializing a BertForSequenceClassification model from a BertForSequenceClassification model).\n",
      "Some weights of AFEABert were not initialized from the model checkpoint at nghuyong/ernie-1.0 and are newly initialized: ['linear.weight', 'linear.bias', 'classifier.weight', 'classifier.bias']\n",
      "You should probably TRAIN this model on a down-stream task to be able to use it for predictions and inference.\n"
     ]
    }
   ],
   "source": [
    "dl_module = AFEABert.from_pretrained('nghuyong/ernie-1.0',\n",
    "                                       config=bert_config)"
   ]
  },
  {
   "cell_type": "markdown",
   "metadata": {},
   "source": [
    "<br>\n",
    "\n",
    "### 三、任务构建"
   ]
  },
  {
   "cell_type": "markdown",
   "metadata": {},
   "source": [
    "#### 1. 任务参数和必要部件设定"
   ]
  },
  {
   "cell_type": "code",
   "execution_count": 12,
   "metadata": {},
   "outputs": [],
   "source": [
    "optimizer = get_default_model_optimizer(dl_module)"
   ]
  },
  {
   "cell_type": "markdown",
   "metadata": {},
   "source": [
    "#### 2. 任务创建"
   ]
  },
  {
   "cell_type": "code",
   "execution_count": 13,
   "metadata": {},
   "outputs": [],
   "source": [
    "model = Task(dl_module, optimizer, 'ce', cuda_device=0)"
   ]
  },
  {
   "cell_type": "markdown",
   "metadata": {},
   "source": [
    "#### 3. 训练"
   ]
  },
  {
   "cell_type": "code",
   "execution_count": 14,
   "metadata": {
    "collapsed": true,
    "jupyter": {
     "outputs_hidden": true
    }
   },
   "outputs": [
    {
     "name": "stderr",
     "output_type": "stream",
     "text": [
      " 22%|██▏       | 100/449 [00:51<02:59,  1.94it/s]"
     ]
    },
    {
     "name": "stdout",
     "output_type": "stream",
     "text": [
      "[99/449],train loss is:1.236724,train evaluation is:10.461778\n"
     ]
    },
    {
     "name": "stderr",
     "output_type": "stream",
     "text": [
      " 45%|████▍     | 200/449 [01:43<02:09,  1.93it/s]"
     ]
    },
    {
     "name": "stdout",
     "output_type": "stream",
     "text": [
      "[199/449],train loss is:0.959788,train evaluation is:11.022111\n"
     ]
    },
    {
     "name": "stderr",
     "output_type": "stream",
     "text": [
      " 67%|██████▋   | 300/449 [02:35<01:17,  1.92it/s]"
     ]
    },
    {
     "name": "stdout",
     "output_type": "stream",
     "text": [
      "[299/449],train loss is:0.825182,train evaluation is:11.249333\n"
     ]
    },
    {
     "name": "stderr",
     "output_type": "stream",
     "text": [
      " 89%|████████▉ | 400/449 [03:27<00:25,  1.91it/s]"
     ]
    },
    {
     "name": "stdout",
     "output_type": "stream",
     "text": [
      "[399/449],train loss is:0.725161,train evaluation is:11.644833\n"
     ]
    },
    {
     "name": "stderr",
     "output_type": "stream",
     "text": [
      "100%|██████████| 449/449 [03:52<00:00,  1.93it/s]\n"
     ]
    },
    {
     "name": "stdout",
     "output_type": "stream",
     "text": [
      "epoch:[0],train loss is:0.689928,train evaluation is:11.622371 \n",
      "\n",
      "classification_report: \n",
      "               precision    recall  f1-score   support\n",
      "\n",
      "        发病机制       0.00      0.00      0.00         6\n",
      "         死亡率       0.00      0.00      0.00        15\n",
      "        传播途径       0.00      0.00      0.00        14\n",
      "          阶段       0.00      0.00      0.00        38\n",
      "        病理生理       0.00      0.00      0.00        13\n",
      " 侵及周围组织转移的症状       0.00      0.00      0.00        12\n",
      "       组织学检查       0.00      0.00      0.00        92\n",
      "        预后状况       0.00      0.00      0.00        48\n",
      "        发病部位       0.74      0.45      0.56       307\n",
      "          化疗       0.00      0.00      0.00        34\n",
      "        多发地区       0.00      0.00      0.00        35\n",
      "        鉴别诊断       0.85      0.04      0.07       285\n",
      "        病理分型       0.70      0.21      0.33       518\n",
      "          病因       0.69      0.44      0.54       776\n",
      "      风险评估因素       0.00      0.00      0.00       121\n",
      "         同义词       0.78      0.39      0.52       890\n",
      "        发病年龄       0.00      0.00      0.00        56\n",
      "       实验室检查       0.58      0.77      0.66       471\n",
      "         发病率       0.53      0.40      0.45        73\n",
      "      相关（症状）       0.00      0.00      0.00        75\n",
      "        外侵部位       0.00      0.00      0.00        26\n",
      "          筛查       0.00      0.00      0.00        40\n",
      "        放射治疗       0.00      0.00      0.00        30\n",
      "      相关（转化）       0.00      0.00      0.00       165\n",
      "       治疗后症状       0.00      0.00      0.00        25\n",
      "       预后生存率       0.00      0.00      0.00        28\n",
      "        药物治疗       0.84      0.90      0.87      1065\n",
      "        临床表现       0.81      0.86      0.83      2948\n",
      "        手术治疗       0.70      0.64      0.67       196\n",
      "        辅助治疗       0.66      0.59      0.62       393\n",
      "         并发症       0.70      0.12      0.21       532\n",
      "      相关（导致）       0.00      0.00      0.00       327\n",
      "        转移部位       0.00      0.00      0.00        52\n",
      "        多发群体       0.67      0.03      0.05       151\n",
      "        多发季节       0.00      0.00      0.00        15\n",
      "          病史       0.00      0.00      0.00        35\n",
      "          预防       0.00      0.00      0.00        80\n",
      "        就诊科室       0.00      0.00      0.00         4\n",
      "        遗传因素       0.00      0.00      0.00        22\n",
      "       影像学检查       0.71      0.71      0.71       332\n",
      "       内窥镜检查       0.00      0.00      0.00        41\n",
      "        辅助检查       0.33      0.01      0.02       130\n",
      "        高危因素       0.45      0.34      0.39       278\n",
      "      发病性别倾向       0.00      0.00      0.00        32\n",
      "        None       0.93      0.99      0.96     55060\n",
      "\n",
      "    accuracy                           0.91     65886\n",
      "   macro avg       0.26      0.18      0.19     65886\n",
      "weighted avg       0.88      0.91      0.89     65886\n",
      "\n",
      "confusion_matrix_: \n",
      " [[    0     0     0 ...     0     0     3]\n",
      " [    0     0     0 ...     1     0     5]\n",
      " [    0     0     0 ...     0     0     5]\n",
      " ...\n",
      " [    0     0     0 ...    95     0    92]\n",
      " [    0     0     0 ...     6     0    18]\n",
      " [    0     0     0 ...     5     0 54541]]\n",
      "test loss is:0.376532,test acc is:0.912607,f1_score is:0.187953\n",
      "******************\n"
     ]
    },
    {
     "name": "stderr",
     "output_type": "stream",
     "text": [
      " 22%|██▏       | 100/449 [00:52<03:02,  1.91it/s]"
     ]
    },
    {
     "name": "stdout",
     "output_type": "stream",
     "text": [
      "[99/449],train loss is:0.354710,train evaluation is:11.505778\n"
     ]
    },
    {
     "name": "stderr",
     "output_type": "stream",
     "text": [
      " 45%|████▍     | 200/449 [01:44<02:10,  1.91it/s]"
     ]
    },
    {
     "name": "stdout",
     "output_type": "stream",
     "text": [
      "[199/449],train loss is:0.325554,train evaluation is:12.092889\n"
     ]
    },
    {
     "name": "stderr",
     "output_type": "stream",
     "text": [
      " 67%|██████▋   | 300/449 [02:37<01:18,  1.91it/s]"
     ]
    },
    {
     "name": "stdout",
     "output_type": "stream",
     "text": [
      "[299/449],train loss is:0.306895,train evaluation is:12.300593\n"
     ]
    },
    {
     "name": "stderr",
     "output_type": "stream",
     "text": [
      " 89%|████████▉ | 400/449 [03:29<00:25,  1.91it/s]"
     ]
    },
    {
     "name": "stdout",
     "output_type": "stream",
     "text": [
      "[399/449],train loss is:0.290578,train evaluation is:12.551056\n"
     ]
    },
    {
     "name": "stderr",
     "output_type": "stream",
     "text": [
      "100%|██████████| 449/449 [03:54<00:00,  1.91it/s]\n"
     ]
    },
    {
     "name": "stdout",
     "output_type": "stream",
     "text": [
      "epoch:[1],train loss is:0.284249,train evaluation is:12.484088 \n",
      "\n",
      "classification_report: \n",
      "               precision    recall  f1-score   support\n",
      "\n",
      "        发病机制       0.00      0.00      0.00         6\n",
      "         死亡率       0.00      0.00      0.00        15\n",
      "        传播途径       0.00      0.00      0.00        14\n",
      "          阶段       1.00      0.03      0.05        38\n",
      "        病理生理       0.00      0.00      0.00        13\n",
      " 侵及周围组织转移的症状       0.00      0.00      0.00        12\n",
      "       组织学检查       0.80      0.04      0.08        92\n",
      "        预后状况       1.00      0.27      0.43        48\n",
      "        发病部位       0.76      0.83      0.79       307\n",
      "          化疗       0.00      0.00      0.00        34\n",
      "        多发地区       0.97      0.86      0.91        35\n",
      "        鉴别诊断       0.67      0.64      0.65       285\n",
      "        病理分型       0.68      0.57      0.62       518\n",
      "          病因       0.77      0.79      0.78       776\n",
      "      风险评估因素       0.50      0.01      0.02       121\n",
      "         同义词       0.80      0.53      0.64       890\n",
      "        发病年龄       0.68      0.30      0.42        56\n",
      "       实验室检查       0.70      0.87      0.77       471\n",
      "         发病率       0.53      0.86      0.66        73\n",
      "      相关（症状）       1.00      0.01      0.03        75\n",
      "        外侵部位       0.00      0.00      0.00        26\n",
      "          筛查       0.00      0.00      0.00        40\n",
      "        放射治疗       0.00      0.00      0.00        30\n",
      "      相关（转化）       0.00      0.00      0.00       165\n",
      "       治疗后症状       0.00      0.00      0.00        25\n",
      "       预后生存率       0.00      0.00      0.00        28\n",
      "        药物治疗       0.90      0.97      0.93      1065\n",
      "        临床表现       0.89      0.93      0.91      2948\n",
      "        手术治疗       0.68      0.92      0.78       196\n",
      "        辅助治疗       0.81      0.85      0.83       393\n",
      "         并发症       0.52      0.76      0.62       532\n",
      "      相关（导致）       0.50      0.16      0.24       327\n",
      "        转移部位       0.00      0.00      0.00        52\n",
      "        多发群体       0.62      0.81      0.71       151\n",
      "        多发季节       0.00      0.00      0.00        15\n",
      "          病史       1.00      0.03      0.06        35\n",
      "          预防       0.85      0.76      0.80        80\n",
      "        就诊科室       0.00      0.00      0.00         4\n",
      "        遗传因素       0.00      0.00      0.00        22\n",
      "       影像学检查       0.77      0.87      0.81       332\n",
      "       内窥镜检查       0.00      0.00      0.00        41\n",
      "        辅助检查       0.58      0.31      0.40       130\n",
      "        高危因素       0.48      0.69      0.57       278\n",
      "      发病性别倾向       0.00      0.00      0.00        32\n",
      "        None       0.97      0.98      0.98     55060\n",
      "\n",
      "    accuracy                           0.94     65886\n",
      "   macro avg       0.45      0.35      0.34     65886\n",
      "weighted avg       0.93      0.94      0.93     65886\n",
      "\n",
      "confusion_matrix_: \n",
      " [[    0     0     0 ...     0     0     1]\n",
      " [    0     0     0 ...     0     0     3]\n",
      " [    0     0     0 ...     1     0     4]\n",
      " ...\n",
      " [    0     0     0 ...   192     0    18]\n",
      " [    0     0     0 ...     1     0     3]\n",
      " [    0     0     0 ...    31     0 54100]]\n",
      "test loss is:0.229121,test acc is:0.939380,f1_score is:0.343938\n",
      "******************\n"
     ]
    },
    {
     "name": "stderr",
     "output_type": "stream",
     "text": [
      " 22%|██▏       | 100/449 [00:52<03:04,  1.89it/s]"
     ]
    },
    {
     "name": "stdout",
     "output_type": "stream",
     "text": [
      "[99/449],train loss is:0.199258,train evaluation is:13.177333\n"
     ]
    },
    {
     "name": "stderr",
     "output_type": "stream",
     "text": [
      " 45%|████▍     | 200/449 [01:45<02:10,  1.90it/s]"
     ]
    },
    {
     "name": "stdout",
     "output_type": "stream",
     "text": [
      "[199/449],train loss is:0.197066,train evaluation is:12.930000\n"
     ]
    },
    {
     "name": "stderr",
     "output_type": "stream",
     "text": [
      " 67%|██████▋   | 300/449 [02:37<01:18,  1.90it/s]"
     ]
    },
    {
     "name": "stdout",
     "output_type": "stream",
     "text": [
      "[299/449],train loss is:0.197421,train evaluation is:12.730000\n"
     ]
    },
    {
     "name": "stderr",
     "output_type": "stream",
     "text": [
      " 89%|████████▉ | 400/449 [03:30<00:25,  1.90it/s]"
     ]
    },
    {
     "name": "stdout",
     "output_type": "stream",
     "text": [
      "[399/449],train loss is:0.195366,train evaluation is:12.837778\n"
     ]
    },
    {
     "name": "stderr",
     "output_type": "stream",
     "text": [
      "100%|██████████| 449/449 [03:55<00:00,  1.90it/s]\n"
     ]
    },
    {
     "name": "stdout",
     "output_type": "stream",
     "text": [
      "epoch:[2],train loss is:0.193381,train evaluation is:12.722989 \n",
      "\n",
      "classification_report: \n",
      "               precision    recall  f1-score   support\n",
      "\n",
      "        发病机制       0.00      0.00      0.00         6\n",
      "         死亡率       0.00      0.00      0.00        15\n",
      "        传播途径       1.00      0.07      0.13        14\n",
      "          阶段       1.00      0.68      0.81        38\n",
      "        病理生理       0.00      0.00      0.00        13\n",
      " 侵及周围组织转移的症状       0.00      0.00      0.00        12\n",
      "       组织学检查       0.77      0.43      0.56        92\n",
      "        预后状况       0.92      0.71      0.80        48\n",
      "        发病部位       0.72      0.87      0.79       307\n",
      "          化疗       0.54      0.56      0.55        34\n",
      "        多发地区       1.00      0.91      0.96        35\n",
      "        鉴别诊断       0.75      0.66      0.70       285\n",
      "        病理分型       0.71      0.59      0.65       518\n",
      "          病因       0.75      0.84      0.79       776\n",
      "      风险评估因素       0.33      0.02      0.03       121\n",
      "         同义词       0.82      0.68      0.74       890\n",
      "        发病年龄       0.70      0.66      0.68        56\n",
      "       实验室检查       0.74      0.89      0.81       471\n",
      "         发病率       0.59      0.88      0.70        73\n",
      "      相关（症状）       0.42      0.33      0.37        75\n",
      "        外侵部位       0.00      0.00      0.00        26\n",
      "          筛查       0.00      0.00      0.00        40\n",
      "        放射治疗       0.50      0.03      0.06        30\n",
      "      相关（转化）       0.36      0.05      0.09       165\n",
      "       治疗后症状       0.00      0.00      0.00        25\n",
      "       预后生存率       1.00      0.07      0.13        28\n",
      "        药物治疗       0.92      0.98      0.95      1065\n",
      "        临床表现       0.89      0.94      0.92      2948\n",
      "        手术治疗       0.87      0.95      0.91       196\n",
      "        辅助治疗       0.84      0.93      0.88       393\n",
      "         并发症       0.66      0.67      0.67       532\n",
      "      相关（导致）       0.57      0.46      0.51       327\n",
      "        转移部位       1.00      0.12      0.21        52\n",
      "        多发群体       0.77      0.81      0.79       151\n",
      "        多发季节       1.00      0.80      0.89        15\n",
      "          病史       0.49      0.57      0.53        35\n",
      "          预防       0.88      0.89      0.88        80\n",
      "        就诊科室       0.00      0.00      0.00         4\n",
      "        遗传因素       1.00      0.27      0.43        22\n",
      "       影像学检查       0.86      0.88      0.87       332\n",
      "       内窥镜检查       0.85      0.56      0.68        41\n",
      "        辅助检查       0.57      0.38      0.46       130\n",
      "        高危因素       0.63      0.70      0.66       278\n",
      "      发病性别倾向       1.00      0.22      0.36        32\n",
      "        None       0.98      0.98      0.98     55060\n",
      "\n",
      "    accuracy                           0.95     65886\n",
      "   macro avg       0.63      0.49      0.51     65886\n",
      "weighted avg       0.94      0.95      0.94     65886\n",
      "\n",
      "confusion_matrix_: \n",
      " [[    0     0     0 ...     0     0     1]\n",
      " [    0     0     0 ...     0     0     3]\n",
      " [    0     0     1 ...     0     0     4]\n",
      " ...\n",
      " [    0     0     0 ...   195     0    13]\n",
      " [    0     0     0 ...     1     7     1]\n",
      " [    0     0     0 ...     7     0 54101]]\n",
      "test loss is:0.188535,test acc is:0.948821,f1_score is:0.509092\n",
      "******************\n"
     ]
    },
    {
     "name": "stderr",
     "output_type": "stream",
     "text": [
      " 22%|██▏       | 100/449 [00:52<03:03,  1.90it/s]"
     ]
    },
    {
     "name": "stdout",
     "output_type": "stream",
     "text": [
      "[99/449],train loss is:0.152358,train evaluation is:13.060222\n"
     ]
    },
    {
     "name": "stderr",
     "output_type": "stream",
     "text": [
      " 45%|████▍     | 200/449 [01:45<02:10,  1.90it/s]"
     ]
    },
    {
     "name": "stdout",
     "output_type": "stream",
     "text": [
      "[199/449],train loss is:0.154860,train evaluation is:12.831222\n"
     ]
    },
    {
     "name": "stderr",
     "output_type": "stream",
     "text": [
      " 67%|██████▋   | 300/449 [02:37<01:18,  1.90it/s]"
     ]
    },
    {
     "name": "stdout",
     "output_type": "stream",
     "text": [
      "[299/449],train loss is:0.153856,train evaluation is:12.836074\n"
     ]
    },
    {
     "name": "stderr",
     "output_type": "stream",
     "text": [
      " 89%|████████▉ | 400/449 [03:30<00:25,  1.90it/s]"
     ]
    },
    {
     "name": "stdout",
     "output_type": "stream",
     "text": [
      "[399/449],train loss is:0.151646,train evaluation is:12.899722\n"
     ]
    },
    {
     "name": "stderr",
     "output_type": "stream",
     "text": [
      "100%|██████████| 449/449 [03:56<00:00,  1.90it/s]\n"
     ]
    },
    {
     "name": "stdout",
     "output_type": "stream",
     "text": [
      "epoch:[3],train loss is:0.151095,train evaluation is:12.856174 \n",
      "\n",
      "classification_report: \n",
      "               precision    recall  f1-score   support\n",
      "\n",
      "        发病机制       0.00      0.00      0.00         6\n",
      "         死亡率       0.91      0.67      0.77        15\n",
      "        传播途径       1.00      0.36      0.53        14\n",
      "          阶段       1.00      0.82      0.90        38\n",
      "        病理生理       0.00      0.00      0.00        13\n",
      " 侵及周围组织转移的症状       0.00      0.00      0.00        12\n",
      "       组织学检查       0.78      0.55      0.65        92\n",
      "        预后状况       0.83      0.79      0.81        48\n",
      "        发病部位       0.79      0.88      0.83       307\n",
      "          化疗       0.66      0.62      0.64        34\n",
      "        多发地区       1.00      0.94      0.97        35\n",
      "        鉴别诊断       0.73      0.72      0.72       285\n",
      "        病理分型       0.75      0.64      0.69       518\n",
      "          病因       0.83      0.77      0.80       776\n",
      "      风险评估因素       0.30      0.10      0.15       121\n",
      "         同义词       0.82      0.69      0.75       890\n",
      "        发病年龄       0.84      0.68      0.75        56\n",
      "       实验室检查       0.72      0.92      0.81       471\n",
      "         发病率       0.89      0.85      0.87        73\n",
      "      相关（症状）       0.36      0.49      0.42        75\n",
      "        外侵部位       0.00      0.00      0.00        26\n",
      "          筛查       1.00      0.40      0.57        40\n",
      "        放射治疗       0.58      0.37      0.45        30\n",
      "      相关（转化）       0.47      0.04      0.08       165\n",
      "       治疗后症状       0.33      0.52      0.41        25\n",
      "       预后生存率       1.00      0.71      0.83        28\n",
      "        药物治疗       0.94      0.96      0.95      1065\n",
      "        临床表现       0.91      0.93      0.92      2948\n",
      "        手术治疗       0.94      0.95      0.94       196\n",
      "        辅助治疗       0.91      0.91      0.91       393\n",
      "         并发症       0.70      0.70      0.70       532\n",
      "      相关（导致）       0.63      0.50      0.56       327\n",
      "        转移部位       0.72      0.35      0.47        52\n",
      "        多发群体       0.80      0.85      0.83       151\n",
      "        多发季节       1.00      1.00      1.00        15\n",
      "          病史       0.51      0.71      0.60        35\n",
      "          预防       0.97      0.91      0.94        80\n",
      "        就诊科室       0.00      0.00      0.00         4\n",
      "        遗传因素       0.75      0.55      0.63        22\n",
      "       影像学检查       0.86      0.91      0.88       332\n",
      "       内窥镜检查       0.83      0.71      0.76        41\n",
      "        辅助检查       0.65      0.39      0.49       130\n",
      "        高危因素       0.60      0.73      0.66       278\n",
      "      发病性别倾向       0.83      0.59      0.69        32\n",
      "        None       0.98      0.98      0.98     55060\n",
      "\n",
      "    accuracy                           0.95     65886\n",
      "   macro avg       0.69      0.60      0.63     65886\n",
      "weighted avg       0.95      0.95      0.95     65886\n",
      "\n",
      "confusion_matrix_: \n",
      " [[    0     0     0 ...     0     0     1]\n",
      " [    0    10     0 ...     0     0     3]\n",
      " [    0     0     5 ...     0     0     7]\n",
      " ...\n",
      " [    0     0     0 ...   204     0    22]\n",
      " [    0     0     0 ...     1    19     1]\n",
      " [    0     0     0 ...    18     0 54176]]\n",
      "test loss is:0.170135,test acc is:0.952387,f1_score is:0.628614\n",
      "******************\n"
     ]
    },
    {
     "name": "stderr",
     "output_type": "stream",
     "text": [
      " 22%|██▏       | 100/449 [00:52<03:03,  1.90it/s]"
     ]
    },
    {
     "name": "stdout",
     "output_type": "stream",
     "text": [
      "[99/449],train loss is:0.130522,train evaluation is:12.952667\n"
     ]
    },
    {
     "name": "stderr",
     "output_type": "stream",
     "text": [
      " 45%|████▍     | 200/449 [01:45<02:10,  1.90it/s]"
     ]
    },
    {
     "name": "stdout",
     "output_type": "stream",
     "text": [
      "[199/449],train loss is:0.124710,train evaluation is:12.776222\n"
     ]
    },
    {
     "name": "stderr",
     "output_type": "stream",
     "text": [
      " 67%|██████▋   | 300/449 [02:37<01:18,  1.90it/s]"
     ]
    },
    {
     "name": "stdout",
     "output_type": "stream",
     "text": [
      "[299/449],train loss is:0.125742,train evaluation is:12.854444\n"
     ]
    },
    {
     "name": "stderr",
     "output_type": "stream",
     "text": [
      " 89%|████████▉ | 400/449 [03:30<00:25,  1.91it/s]"
     ]
    },
    {
     "name": "stdout",
     "output_type": "stream",
     "text": [
      "[399/449],train loss is:0.126414,train evaluation is:13.003778\n"
     ]
    },
    {
     "name": "stderr",
     "output_type": "stream",
     "text": [
      "100%|██████████| 449/449 [03:55<00:00,  1.90it/s]\n"
     ]
    },
    {
     "name": "stdout",
     "output_type": "stream",
     "text": [
      "epoch:[4],train loss is:0.126512,train evaluation is:12.943232 \n",
      "\n",
      "classification_report: \n",
      "               precision    recall  f1-score   support\n",
      "\n",
      "        发病机制       0.00      0.00      0.00         6\n",
      "         死亡率       1.00      0.60      0.75        15\n",
      "        传播途径       1.00      0.64      0.78        14\n",
      "          阶段       0.86      0.82      0.84        38\n",
      "        病理生理       0.00      0.00      0.00        13\n",
      " 侵及周围组织转移的症状       0.00      0.00      0.00        12\n",
      "       组织学检查       0.79      0.50      0.61        92\n",
      "        预后状况       0.90      0.77      0.83        48\n",
      "        发病部位       0.84      0.84      0.84       307\n",
      "          化疗       0.72      0.53      0.61        34\n",
      "        多发地区       1.00      0.94      0.97        35\n",
      "        鉴别诊断       0.84      0.60      0.70       285\n",
      "        病理分型       0.72      0.67      0.69       518\n",
      "          病因       0.82      0.81      0.81       776\n",
      "      风险评估因素       0.25      0.17      0.20       121\n",
      "         同义词       0.84      0.70      0.77       890\n",
      "        发病年龄       0.93      0.71      0.81        56\n",
      "       实验室检查       0.74      0.89      0.81       471\n",
      "         发病率       0.83      0.86      0.85        73\n",
      "      相关（症状）       0.47      0.27      0.34        75\n",
      "        外侵部位       0.50      0.15      0.24        26\n",
      "          筛查       1.00      0.53      0.69        40\n",
      "        放射治疗       0.80      0.40      0.53        30\n",
      "      相关（转化）       0.46      0.11      0.18       165\n",
      "       治疗后症状       0.33      0.52      0.41        25\n",
      "       预后生存率       0.96      0.86      0.91        28\n",
      "        药物治疗       0.95      0.96      0.95      1065\n",
      "        临床表现       0.92      0.92      0.92      2948\n",
      "        手术治疗       0.95      0.96      0.95       196\n",
      "        辅助治疗       0.88      0.90      0.89       393\n",
      "         并发症       0.68      0.73      0.70       532\n",
      "      相关（导致）       0.64      0.45      0.53       327\n",
      "        转移部位       0.63      0.46      0.53        52\n",
      "        多发群体       0.83      0.85      0.84       151\n",
      "        多发季节       1.00      1.00      1.00        15\n",
      "          病史       0.47      0.71      0.57        35\n",
      "          预防       0.96      0.96      0.96        80\n",
      "        就诊科室       1.00      0.25      0.40         4\n",
      "        遗传因素       0.57      0.59      0.58        22\n",
      "       影像学检查       0.89      0.86      0.87       332\n",
      "       内窥镜检查       0.85      0.80      0.83        41\n",
      "        辅助检查       0.64      0.48      0.55       130\n",
      "        高危因素       0.68      0.64      0.66       278\n",
      "      发病性别倾向       0.75      0.75      0.75        32\n",
      "        None       0.97      0.99      0.98     55060\n",
      "\n",
      "    accuracy                           0.95     65886\n",
      "   macro avg       0.73      0.63      0.66     65886\n",
      "weighted avg       0.95      0.95      0.95     65886\n",
      "\n",
      "confusion_matrix_: \n",
      " [[    0     0     0 ...     0     0     1]\n",
      " [    0     9     0 ...     0     0     3]\n",
      " [    0     0     9 ...     0     0     3]\n",
      " ...\n",
      " [    0     0     0 ...   179     1    17]\n",
      " [    0     0     0 ...     1    24     2]\n",
      " [    0     0     0 ...    12     0 54296]]\n",
      "test loss is:0.162085,test acc is:0.953450,f1_score is:0.658370\n",
      "******************\n"
     ]
    },
    {
     "name": "stderr",
     "output_type": "stream",
     "text": [
      " 22%|██▏       | 100/449 [00:52<03:03,  1.90it/s]"
     ]
    },
    {
     "name": "stdout",
     "output_type": "stream",
     "text": [
      "[99/449],train loss is:0.105923,train evaluation is:13.904222\n"
     ]
    },
    {
     "name": "stderr",
     "output_type": "stream",
     "text": [
      " 45%|████▍     | 200/449 [01:45<02:11,  1.90it/s]"
     ]
    },
    {
     "name": "stdout",
     "output_type": "stream",
     "text": [
      "[199/449],train loss is:0.106391,train evaluation is:13.421000\n"
     ]
    },
    {
     "name": "stderr",
     "output_type": "stream",
     "text": [
      " 67%|██████▋   | 300/449 [02:38<01:18,  1.90it/s]"
     ]
    },
    {
     "name": "stdout",
     "output_type": "stream",
     "text": [
      "[299/449],train loss is:0.107408,train evaluation is:13.195852\n"
     ]
    },
    {
     "name": "stderr",
     "output_type": "stream",
     "text": [
      " 89%|████████▉ | 400/449 [03:30<00:25,  1.90it/s]"
     ]
    },
    {
     "name": "stdout",
     "output_type": "stream",
     "text": [
      "[399/449],train loss is:0.106876,train evaluation is:13.097333\n"
     ]
    },
    {
     "name": "stderr",
     "output_type": "stream",
     "text": [
      "100%|██████████| 449/449 [03:56<00:00,  1.90it/s]\n"
     ]
    },
    {
     "name": "stdout",
     "output_type": "stream",
     "text": [
      "epoch:[5],train loss is:0.107906,train evaluation is:13.006780 \n",
      "\n",
      "classification_report: \n",
      "               precision    recall  f1-score   support\n",
      "\n",
      "        发病机制       0.33      0.17      0.22         6\n",
      "         死亡率       1.00      0.67      0.80        15\n",
      "        传播途径       1.00      0.64      0.78        14\n",
      "          阶段       0.73      0.87      0.80        38\n",
      "        病理生理       1.00      0.08      0.14        13\n",
      " 侵及周围组织转移的症状       0.00      0.00      0.00        12\n",
      "       组织学检查       0.83      0.58      0.68        92\n",
      "        预后状况       0.89      0.83      0.86        48\n",
      "        发病部位       0.81      0.87      0.84       307\n",
      "          化疗       0.73      0.65      0.69        34\n",
      "        多发地区       1.00      0.94      0.97        35\n",
      "        鉴别诊断       0.82      0.74      0.78       285\n",
      "        病理分型       0.75      0.64      0.69       518\n",
      "          病因       0.84      0.82      0.83       776\n",
      "      风险评估因素       0.45      0.27      0.34       121\n",
      "         同义词       0.87      0.67      0.76       890\n",
      "        发病年龄       0.93      0.75      0.83        56\n",
      "       实验室检查       0.81      0.85      0.83       471\n",
      "         发病率       0.85      0.86      0.86        73\n",
      "      相关（症状）       0.56      0.44      0.49        75\n",
      "        外侵部位       0.44      0.15      0.23        26\n",
      "          筛查       1.00      0.50      0.67        40\n",
      "        放射治疗       0.79      0.50      0.61        30\n",
      "      相关（转化）       0.32      0.26      0.29       165\n",
      "       治疗后症状       0.36      0.52      0.43        25\n",
      "       预后生存率       0.96      0.86      0.91        28\n",
      "        药物治疗       0.95      0.97      0.96      1065\n",
      "        临床表现       0.91      0.92      0.91      2948\n",
      "        手术治疗       0.91      0.96      0.94       196\n",
      "        辅助治疗       0.85      0.95      0.90       393\n",
      "         并发症       0.79      0.61      0.69       532\n",
      "      相关（导致）       0.65      0.50      0.56       327\n",
      "        转移部位       0.95      0.40      0.57        52\n",
      "        多发群体       0.78      0.90      0.84       151\n",
      "        多发季节       1.00      1.00      1.00        15\n",
      "          病史       0.54      0.63      0.58        35\n",
      "          预防       0.97      0.97      0.97        80\n",
      "        就诊科室       1.00      0.75      0.86         4\n",
      "        遗传因素       0.64      0.64      0.64        22\n",
      "       影像学检查       0.83      0.93      0.88       332\n",
      "       内窥镜检查       0.82      0.76      0.78        41\n",
      "        辅助检查       0.57      0.55      0.56       130\n",
      "        高危因素       0.69      0.65      0.67       278\n",
      "      发病性别倾向       0.85      0.72      0.78        32\n",
      "        None       0.98      0.99      0.98     55060\n",
      "\n",
      "    accuracy                           0.95     65886\n",
      "   macro avg       0.77      0.67      0.70     65886\n",
      "weighted avg       0.95      0.95      0.95     65886\n",
      "\n",
      "confusion_matrix_: \n",
      " [[    1     0     0 ...     0     0     1]\n",
      " [    0    10     0 ...     0     0     3]\n",
      " [    0     0     9 ...     0     0     3]\n",
      " ...\n",
      " [    0     0     0 ...   182     1    27]\n",
      " [    0     0     0 ...     1    23     0]\n",
      " [    0     0     0 ...     9     0 54242]]\n",
      "test loss is:0.156693,test acc is:0.954512,f1_score is:0.697456\n",
      "******************\n"
     ]
    },
    {
     "name": "stderr",
     "output_type": "stream",
     "text": [
      " 22%|██▏       | 100/449 [00:52<03:03,  1.90it/s]"
     ]
    },
    {
     "name": "stdout",
     "output_type": "stream",
     "text": [
      "[99/449],train loss is:0.101697,train evaluation is:12.865778\n"
     ]
    },
    {
     "name": "stderr",
     "output_type": "stream",
     "text": [
      " 45%|████▍     | 200/449 [01:45<02:11,  1.90it/s]"
     ]
    },
    {
     "name": "stdout",
     "output_type": "stream",
     "text": [
      "[199/449],train loss is:0.095450,train evaluation is:12.993111\n"
     ]
    },
    {
     "name": "stderr",
     "output_type": "stream",
     "text": [
      " 67%|██████▋   | 300/449 [02:38<01:18,  1.90it/s]"
     ]
    },
    {
     "name": "stdout",
     "output_type": "stream",
     "text": [
      "[299/449],train loss is:0.093971,train evaluation is:12.806148\n"
     ]
    },
    {
     "name": "stderr",
     "output_type": "stream",
     "text": [
      " 89%|████████▉ | 400/449 [03:30<00:25,  1.90it/s]"
     ]
    },
    {
     "name": "stdout",
     "output_type": "stream",
     "text": [
      "[399/449],train loss is:0.093441,train evaluation is:13.007667\n"
     ]
    },
    {
     "name": "stderr",
     "output_type": "stream",
     "text": [
      "100%|██████████| 449/449 [03:56<00:00,  1.90it/s]\n"
     ]
    },
    {
     "name": "stdout",
     "output_type": "stream",
     "text": [
      "epoch:[6],train loss is:0.093083,train evaluation is:13.065479 \n",
      "\n",
      "classification_report: \n",
      "               precision    recall  f1-score   support\n",
      "\n",
      "        发病机制       0.00      0.00      0.00         6\n",
      "         死亡率       1.00      0.80      0.89        15\n",
      "        传播途径       0.80      0.86      0.83        14\n",
      "          阶段       0.79      0.87      0.82        38\n",
      "        病理生理       1.00      0.31      0.47        13\n",
      " 侵及周围组织转移的症状       0.00      0.00      0.00        12\n",
      "       组织学检查       0.90      0.39      0.55        92\n",
      "        预后状况       0.89      0.88      0.88        48\n",
      "        发病部位       0.79      0.87      0.83       307\n",
      "          化疗       0.74      0.74      0.74        34\n",
      "        多发地区       1.00      1.00      1.00        35\n",
      "        鉴别诊断       0.77      0.80      0.78       285\n",
      "        病理分型       0.75      0.65      0.70       518\n",
      "          病因       0.81      0.87      0.83       776\n",
      "      风险评估因素       0.58      0.06      0.11       121\n",
      "         同义词       0.84      0.73      0.78       890\n",
      "        发病年龄       0.86      0.86      0.86        56\n",
      "       实验室检查       0.74      0.93      0.82       471\n",
      "         发病率       0.79      0.88      0.83        73\n",
      "      相关（症状）       0.57      0.48      0.52        75\n",
      "        外侵部位       0.67      0.15      0.25        26\n",
      "          筛查       0.93      0.62      0.75        40\n",
      "        放射治疗       0.84      0.70      0.76        30\n",
      "      相关（转化）       0.57      0.22      0.32       165\n",
      "       治疗后症状       0.38      0.60      0.46        25\n",
      "       预后生存率       0.92      0.86      0.89        28\n",
      "        药物治疗       0.95      0.97      0.96      1065\n",
      "        临床表现       0.91      0.93      0.92      2948\n",
      "        手术治疗       0.94      0.96      0.95       196\n",
      "        辅助治疗       0.93      0.91      0.92       393\n",
      "         并发症       0.68      0.75      0.71       532\n",
      "      相关（导致）       0.67      0.50      0.57       327\n",
      "        转移部位       0.95      0.37      0.53        52\n",
      "        多发群体       0.80      0.87      0.83       151\n",
      "        多发季节       1.00      1.00      1.00        15\n",
      "          病史       0.58      0.71      0.64        35\n",
      "          预防       0.97      0.97      0.97        80\n",
      "        就诊科室       1.00      0.75      0.86         4\n",
      "        遗传因素       0.88      0.64      0.74        22\n",
      "       影像学检查       0.89      0.89      0.89       332\n",
      "       内窥镜检查       0.85      0.83      0.84        41\n",
      "        辅助检查       0.75      0.45      0.56       130\n",
      "        高危因素       0.61      0.76      0.68       278\n",
      "      发病性别倾向       0.86      0.75      0.80        32\n",
      "        None       0.98      0.98      0.98     55060\n",
      "\n",
      "    accuracy                           0.96     65886\n",
      "   macro avg       0.78      0.69      0.71     65886\n",
      "weighted avg       0.96      0.96      0.95     65886\n",
      "\n",
      "confusion_matrix_: \n",
      " [[    0     0     0 ...     0     0     1]\n",
      " [    0    12     0 ...     0     0     2]\n",
      " [    0     0    12 ...     0     0     2]\n",
      " ...\n",
      " [    0     0     0 ...   212     0    12]\n",
      " [    0     0     0 ...     1    24     1]\n",
      " [    0     0     0 ...    24     0 54180]]\n",
      "test loss is:0.160017,test acc is:0.956531,f1_score is:0.711389\n",
      "******************\n"
     ]
    },
    {
     "name": "stderr",
     "output_type": "stream",
     "text": [
      " 22%|██▏       | 100/449 [00:52<03:04,  1.89it/s]"
     ]
    },
    {
     "name": "stdout",
     "output_type": "stream",
     "text": [
      "[99/449],train loss is:0.089917,train evaluation is:12.986000\n"
     ]
    },
    {
     "name": "stderr",
     "output_type": "stream",
     "text": [
      " 45%|████▍     | 200/449 [01:45<02:10,  1.90it/s]"
     ]
    },
    {
     "name": "stdout",
     "output_type": "stream",
     "text": [
      "[199/449],train loss is:0.085954,train evaluation is:13.003333\n"
     ]
    },
    {
     "name": "stderr",
     "output_type": "stream",
     "text": [
      " 67%|██████▋   | 300/449 [02:38<01:18,  1.89it/s]"
     ]
    },
    {
     "name": "stdout",
     "output_type": "stream",
     "text": [
      "[299/449],train loss is:0.083432,train evaluation is:13.169259\n"
     ]
    },
    {
     "name": "stderr",
     "output_type": "stream",
     "text": [
      " 89%|████████▉ | 400/449 [03:30<00:25,  1.90it/s]"
     ]
    },
    {
     "name": "stdout",
     "output_type": "stream",
     "text": [
      "[399/449],train loss is:0.083254,train evaluation is:13.116722\n"
     ]
    },
    {
     "name": "stderr",
     "output_type": "stream",
     "text": [
      "100%|██████████| 449/449 [03:56<00:00,  1.90it/s]\n"
     ]
    },
    {
     "name": "stdout",
     "output_type": "stream",
     "text": [
      "epoch:[7],train loss is:0.082980,train evaluation is:13.098243 \n",
      "\n",
      "classification_report: \n",
      "               precision    recall  f1-score   support\n",
      "\n",
      "        发病机制       0.50      0.17      0.25         6\n",
      "         死亡率       0.92      0.80      0.86        15\n",
      "        传播途径       0.73      0.57      0.64        14\n",
      "          阶段       0.77      0.87      0.81        38\n",
      "        病理生理       1.00      0.31      0.47        13\n",
      " 侵及周围组织转移的症状       0.00      0.00      0.00        12\n",
      "       组织学检查       0.83      0.60      0.70        92\n",
      "        预后状况       0.91      0.90      0.91        48\n",
      "        发病部位       0.79      0.89      0.84       307\n",
      "          化疗       0.77      0.71      0.74        34\n",
      "        多发地区       1.00      0.94      0.97        35\n",
      "        鉴别诊断       0.79      0.79      0.79       285\n",
      "        病理分型       0.76      0.64      0.69       518\n",
      "          病因       0.82      0.85      0.83       776\n",
      "      风险评估因素       0.42      0.33      0.37       121\n",
      "         同义词       0.89      0.67      0.77       890\n",
      "        发病年龄       0.90      0.84      0.87        56\n",
      "       实验室检查       0.79      0.90      0.84       471\n",
      "         发病率       0.88      0.82      0.85        73\n",
      "      相关（症状）       0.49      0.55      0.52        75\n",
      "        外侵部位       0.67      0.15      0.25        26\n",
      "          筛查       0.87      0.68      0.76        40\n",
      "        放射治疗       0.88      0.70      0.78        30\n",
      "      相关（转化）       0.33      0.38      0.35       165\n",
      "       治疗后症状       0.50      0.52      0.51        25\n",
      "       预后生存率       1.00      0.82      0.90        28\n",
      "        药物治疗       0.94      0.98      0.96      1065\n",
      "        临床表现       0.91      0.93      0.92      2948\n",
      "        手术治疗       0.95      0.94      0.95       196\n",
      "        辅助治疗       0.88      0.95      0.91       393\n",
      "         并发症       0.79      0.65      0.71       532\n",
      "      相关（导致）       0.59      0.53      0.56       327\n",
      "        转移部位       0.91      0.40      0.56        52\n",
      "        多发群体       0.79      0.85      0.82       151\n",
      "        多发季节       1.00      0.93      0.97        15\n",
      "          病史       0.52      0.71      0.60        35\n",
      "          预防       0.99      0.96      0.97        80\n",
      "        就诊科室       1.00      0.75      0.86         4\n",
      "        遗传因素       0.75      0.55      0.63        22\n",
      "       影像学检查       0.86      0.92      0.89       332\n",
      "       内窥镜检查       0.82      0.78      0.80        41\n",
      "        辅助检查       0.69      0.57      0.62       130\n",
      "        高危因素       0.68      0.68      0.68       278\n",
      "      发病性别倾向       0.71      0.78      0.75        32\n",
      "        None       0.98      0.98      0.98     55060\n",
      "\n",
      "    accuracy                           0.96     65886\n",
      "   macro avg       0.78      0.69      0.72     65886\n",
      "weighted avg       0.96      0.96      0.96     65886\n",
      "\n",
      "confusion_matrix_: \n",
      " [[    1     0     0 ...     0     0     1]\n",
      " [    0    12     0 ...     0     0     3]\n",
      " [    0     0     8 ...     0     0     2]\n",
      " ...\n",
      " [    0     0     0 ...   188     1    16]\n",
      " [    0     0     0 ...     1    25     2]\n",
      " [    0     0     0 ...    19     1 54179]]\n",
      "test loss is:0.154568,test acc is:0.956167,f1_score is:0.720186\n",
      "******************\n"
     ]
    },
    {
     "name": "stderr",
     "output_type": "stream",
     "text": [
      " 22%|██▏       | 100/449 [00:52<03:03,  1.90it/s]"
     ]
    },
    {
     "name": "stdout",
     "output_type": "stream",
     "text": [
      "[99/449],train loss is:0.071823,train evaluation is:13.029111\n"
     ]
    },
    {
     "name": "stderr",
     "output_type": "stream",
     "text": [
      " 45%|████▍     | 200/449 [01:45<02:11,  1.89it/s]"
     ]
    },
    {
     "name": "stdout",
     "output_type": "stream",
     "text": [
      "[199/449],train loss is:0.072761,train evaluation is:12.920667\n"
     ]
    },
    {
     "name": "stderr",
     "output_type": "stream",
     "text": [
      " 67%|██████▋   | 300/449 [02:38<01:18,  1.89it/s]"
     ]
    },
    {
     "name": "stdout",
     "output_type": "stream",
     "text": [
      "[299/449],train loss is:0.072104,train evaluation is:13.106963\n"
     ]
    },
    {
     "name": "stderr",
     "output_type": "stream",
     "text": [
      " 89%|████████▉ | 400/449 [03:30<00:25,  1.89it/s]"
     ]
    },
    {
     "name": "stdout",
     "output_type": "stream",
     "text": [
      "[399/449],train loss is:0.072230,train evaluation is:13.181389\n"
     ]
    },
    {
     "name": "stderr",
     "output_type": "stream",
     "text": [
      "100%|██████████| 449/449 [03:56<00:00,  1.90it/s]\n"
     ]
    },
    {
     "name": "stdout",
     "output_type": "stream",
     "text": [
      "epoch:[8],train loss is:0.071438,train evaluation is:13.137639 \n",
      "\n",
      "classification_report: \n",
      "               precision    recall  f1-score   support\n",
      "\n",
      "        发病机制       0.67      0.33      0.44         6\n",
      "         死亡率       0.86      0.80      0.83        15\n",
      "        传播途径       0.80      0.86      0.83        14\n",
      "          阶段       0.92      0.87      0.89        38\n",
      "        病理生理       1.00      0.46      0.63        13\n",
      " 侵及周围组织转移的症状       0.00      0.00      0.00        12\n",
      "       组织学检查       0.86      0.62      0.72        92\n",
      "        预后状况       0.90      0.79      0.84        48\n",
      "        发病部位       0.81      0.86      0.83       307\n",
      "          化疗       0.81      0.76      0.79        34\n",
      "        多发地区       1.00      1.00      1.00        35\n",
      "        鉴别诊断       0.78      0.79      0.78       285\n",
      "        病理分型       0.77      0.69      0.73       518\n",
      "          病因       0.86      0.84      0.85       776\n",
      "      风险评估因素       0.42      0.33      0.37       121\n",
      "         同义词       0.93      0.65      0.76       890\n",
      "        发病年龄       0.79      0.88      0.83        56\n",
      "       实验室检查       0.81      0.89      0.85       471\n",
      "         发病率       0.85      0.84      0.84        73\n",
      "      相关（症状）       0.57      0.49      0.53        75\n",
      "        外侵部位       0.44      0.15      0.23        26\n",
      "          筛查       0.88      0.70      0.78        40\n",
      "        放射治疗       0.88      0.77      0.82        30\n",
      "      相关（转化）       0.51      0.33      0.40       165\n",
      "       治疗后症状       0.44      0.56      0.49        25\n",
      "       预后生存率       0.86      0.86      0.86        28\n",
      "        药物治疗       0.94      0.97      0.96      1065\n",
      "        临床表现       0.89      0.94      0.91      2948\n",
      "        手术治疗       0.94      0.96      0.95       196\n",
      "        辅助治疗       0.90      0.94      0.92       393\n",
      "         并发症       0.70      0.75      0.73       532\n",
      "      相关（导致）       0.61      0.58      0.59       327\n",
      "        转移部位       0.61      0.44      0.51        52\n",
      "        多发群体       0.80      0.85      0.83       151\n",
      "        多发季节       1.00      1.00      1.00        15\n",
      "          病史       0.56      0.40      0.47        35\n",
      "          预防       1.00      0.96      0.98        80\n",
      "        就诊科室       1.00      0.75      0.86         4\n",
      "        遗传因素       0.60      0.68      0.64        22\n",
      "       影像学检查       0.86      0.93      0.89       332\n",
      "       内窥镜检查       0.83      0.83      0.83        41\n",
      "        辅助检查       0.67      0.55      0.60       130\n",
      "        高危因素       0.64      0.74      0.69       278\n",
      "      发病性别倾向       0.82      0.72      0.77        32\n",
      "        None       0.98      0.98      0.98     55060\n",
      "\n",
      "    accuracy                           0.96     65886\n",
      "   macro avg       0.77      0.71      0.73     65886\n",
      "weighted avg       0.96      0.96      0.96     65886\n",
      "\n",
      "confusion_matrix_: \n",
      " [[    2     0     0 ...     0     0     1]\n",
      " [    0    12     0 ...     0     0     2]\n",
      " [    0     0    12 ...     0     0     2]\n",
      " ...\n",
      " [    0     0     0 ...   205     0    14]\n",
      " [    0     0     0 ...     1    23     0]\n",
      " [    0     0     0 ...    25     0 54152]]\n",
      "test loss is:0.159574,test acc is:0.957214,f1_score is:0.734098\n",
      "******************\n"
     ]
    },
    {
     "name": "stderr",
     "output_type": "stream",
     "text": [
      " 22%|██▏       | 100/449 [00:52<03:03,  1.90it/s]"
     ]
    },
    {
     "name": "stdout",
     "output_type": "stream",
     "text": [
      "[99/449],train loss is:0.063540,train evaluation is:12.916444\n"
     ]
    },
    {
     "name": "stderr",
     "output_type": "stream",
     "text": [
      " 45%|████▍     | 200/449 [01:45<02:11,  1.90it/s]"
     ]
    },
    {
     "name": "stdout",
     "output_type": "stream",
     "text": [
      "[199/449],train loss is:0.062000,train evaluation is:12.912667\n"
     ]
    },
    {
     "name": "stderr",
     "output_type": "stream",
     "text": [
      " 67%|██████▋   | 300/449 [02:38<01:18,  1.90it/s]"
     ]
    },
    {
     "name": "stdout",
     "output_type": "stream",
     "text": [
      "[299/449],train loss is:0.062694,train evaluation is:13.089630\n"
     ]
    },
    {
     "name": "stderr",
     "output_type": "stream",
     "text": [
      " 89%|████████▉ | 400/449 [03:30<00:25,  1.90it/s]"
     ]
    },
    {
     "name": "stdout",
     "output_type": "stream",
     "text": [
      "[399/449],train loss is:0.062734,train evaluation is:13.252944\n"
     ]
    },
    {
     "name": "stderr",
     "output_type": "stream",
     "text": [
      "100%|██████████| 449/449 [03:56<00:00,  1.90it/s]\n"
     ]
    },
    {
     "name": "stdout",
     "output_type": "stream",
     "text": [
      "epoch:[9],train loss is:0.062784,train evaluation is:13.167632 \n",
      "\n",
      "classification_report: \n",
      "               precision    recall  f1-score   support\n",
      "\n",
      "        发病机制       0.25      0.17      0.20         6\n",
      "         死亡率       0.92      0.80      0.86        15\n",
      "        传播途径       0.80      0.86      0.83        14\n",
      "          阶段       0.92      0.87      0.89        38\n",
      "        病理生理       1.00      0.46      0.63        13\n",
      " 侵及周围组织转移的症状       0.00      0.00      0.00        12\n",
      "       组织学检查       0.83      0.60      0.70        92\n",
      "        预后状况       0.93      0.88      0.90        48\n",
      "        发病部位       0.83      0.89      0.86       307\n",
      "          化疗       0.79      0.76      0.78        34\n",
      "        多发地区       1.00      1.00      1.00        35\n",
      "        鉴别诊断       0.77      0.82      0.80       285\n",
      "        病理分型       0.73      0.73      0.73       518\n",
      "          病因       0.83      0.84      0.84       776\n",
      "      风险评估因素       0.35      0.50      0.41       121\n",
      "         同义词       0.82      0.75      0.79       890\n",
      "        发病年龄       0.81      0.89      0.85        56\n",
      "       实验室检查       0.81      0.88      0.84       471\n",
      "         发病率       0.79      0.86      0.82        73\n",
      "      相关（症状）       0.59      0.63      0.61        75\n",
      "        外侵部位       0.52      0.46      0.49        26\n",
      "          筛查       0.83      0.72      0.77        40\n",
      "        放射治疗       1.00      0.67      0.80        30\n",
      "      相关（转化）       0.58      0.33      0.42       165\n",
      "       治疗后症状       0.38      0.32      0.35        25\n",
      "       预后生存率       0.96      0.86      0.91        28\n",
      "        药物治疗       0.94      0.98      0.96      1065\n",
      "        临床表现       0.90      0.94      0.92      2948\n",
      "        手术治疗       0.93      0.96      0.95       196\n",
      "        辅助治疗       0.88      0.95      0.92       393\n",
      "         并发症       0.68      0.75      0.72       532\n",
      "      相关（导致）       0.60      0.60      0.60       327\n",
      "        转移部位       0.83      0.37      0.51        52\n",
      "        多发群体       0.83      0.87      0.85       151\n",
      "        多发季节       1.00      1.00      1.00        15\n",
      "          病史       0.51      0.66      0.57        35\n",
      "          预防       1.00      0.97      0.99        80\n",
      "        就诊科室       1.00      0.75      0.86         4\n",
      "        遗传因素       0.81      0.59      0.68        22\n",
      "       影像学检查       0.90      0.85      0.87       332\n",
      "       内窥镜检查       0.80      0.88      0.84        41\n",
      "        辅助检查       0.60      0.61      0.61       130\n",
      "        高危因素       0.76      0.58      0.65       278\n",
      "      发病性别倾向       0.81      0.69      0.75        32\n",
      "        None       0.98      0.98      0.98     55060\n",
      "\n",
      "    accuracy                           0.96     65886\n",
      "   macro avg       0.77      0.72      0.74     65886\n",
      "weighted avg       0.96      0.96      0.96     65886\n",
      "\n",
      "confusion_matrix_: \n",
      " [[    1     0     0 ...     0     0     1]\n",
      " [    0    12     0 ...     0     0     3]\n",
      " [    0     0    12 ...     0     0     2]\n",
      " ...\n",
      " [    0     0     0 ...   160     0    11]\n",
      " [    0     0     0 ...     1    22     0]\n",
      " [    0     0     0 ...     5     0 54024]]\n",
      "test loss is:0.160160,test acc is:0.957305,f1_score is:0.739168\n",
      "******************\n"
     ]
    }
   ],
   "source": [
    "model.fit(\n",
    "    re_train_dataset,\n",
    "    re_dev_dataset,\n",
    "    lr=2e-5,\n",
    "    epochs=10,\n",
    "    batch_size=32\n",
    ")"
   ]
  },
  {
   "cell_type": "code",
   "execution_count": 16,
   "metadata": {
    "collapsed": true,
    "jupyter": {
     "outputs_hidden": true
    }
   },
   "outputs": [
    {
     "name": "stderr",
     "output_type": "stream",
     "text": [
      " 22%|██▏       | 100/449 [00:51<03:00,  1.93it/s]"
     ]
    },
    {
     "name": "stdout",
     "output_type": "stream",
     "text": [
      "[99/449],train loss is:0.058835,train evaluation is:12.428222\n"
     ]
    },
    {
     "name": "stderr",
     "output_type": "stream",
     "text": [
      " 45%|████▍     | 200/449 [01:43<02:10,  1.91it/s]"
     ]
    },
    {
     "name": "stdout",
     "output_type": "stream",
     "text": [
      "[199/449],train loss is:0.057734,train evaluation is:12.950889\n"
     ]
    },
    {
     "name": "stderr",
     "output_type": "stream",
     "text": [
      " 67%|██████▋   | 300/449 [02:35<01:18,  1.91it/s]"
     ]
    },
    {
     "name": "stdout",
     "output_type": "stream",
     "text": [
      "[299/449],train loss is:0.056343,train evaluation is:13.010444\n"
     ]
    },
    {
     "name": "stderr",
     "output_type": "stream",
     "text": [
      " 89%|████████▉ | 400/449 [03:28<00:25,  1.91it/s]"
     ]
    },
    {
     "name": "stdout",
     "output_type": "stream",
     "text": [
      "[399/449],train loss is:0.055600,train evaluation is:13.146889\n"
     ]
    },
    {
     "name": "stderr",
     "output_type": "stream",
     "text": [
      "100%|██████████| 449/449 [03:53<00:00,  1.92it/s]\n"
     ]
    },
    {
     "name": "stdout",
     "output_type": "stream",
     "text": [
      "epoch:[0],train loss is:0.055835,train evaluation is:13.196041 \n",
      "\n",
      "classification_report: \n",
      "               precision    recall  f1-score   support\n",
      "\n",
      "        发病机制       0.29      0.33      0.31         6\n",
      "         死亡率       1.00      0.80      0.89        15\n",
      "        传播途径       0.80      0.86      0.83        14\n",
      "          阶段       0.89      0.87      0.88        38\n",
      "        病理生理       1.00      0.46      0.63        13\n",
      " 侵及周围组织转移的症状       0.00      0.00      0.00        12\n",
      "       组织学检查       0.84      0.66      0.74        92\n",
      "        预后状况       0.93      0.88      0.90        48\n",
      "        发病部位       0.82      0.91      0.86       307\n",
      "          化疗       0.90      0.76      0.83        34\n",
      "        多发地区       1.00      0.97      0.99        35\n",
      "        鉴别诊断       0.77      0.81      0.79       285\n",
      "        病理分型       0.74      0.73      0.73       518\n",
      "          病因       0.83      0.86      0.85       776\n",
      "      风险评估因素       0.46      0.40      0.43       121\n",
      "         同义词       0.74      0.82      0.78       890\n",
      "        发病年龄       0.83      0.93      0.87        56\n",
      "       实验室检查       0.81      0.88      0.84       471\n",
      "         发病率       0.80      0.88      0.84        73\n",
      "      相关（症状）       0.61      0.57      0.59        75\n",
      "        外侵部位       0.69      0.35      0.46        26\n",
      "          筛查       0.82      0.78      0.79        40\n",
      "        放射治疗       0.89      0.80      0.84        30\n",
      "      相关（转化）       0.61      0.36      0.46       165\n",
      "       治疗后症状       0.49      0.84      0.62        25\n",
      "       预后生存率       1.00      0.86      0.92        28\n",
      "        药物治疗       0.94      0.98      0.96      1065\n",
      "        临床表现       0.92      0.92      0.92      2948\n",
      "        手术治疗       0.96      0.95      0.95       196\n",
      "        辅助治疗       0.88      0.95      0.92       393\n",
      "         并发症       0.70      0.79      0.74       532\n",
      "      相关（导致）       0.62      0.59      0.61       327\n",
      "        转移部位       0.88      0.42      0.57        52\n",
      "        多发群体       0.82      0.87      0.85       151\n",
      "        多发季节       1.00      1.00      1.00        15\n",
      "          病史       0.50      0.54      0.52        35\n",
      "          预防       0.99      0.99      0.99        80\n",
      "        就诊科室       1.00      0.75      0.86         4\n",
      "        遗传因素       0.57      0.77      0.65        22\n",
      "       影像学检查       0.88      0.92      0.90       332\n",
      "       内窥镜检查       0.90      0.85      0.88        41\n",
      "        辅助检查       0.67      0.58      0.62       130\n",
      "        高危因素       0.71      0.71      0.71       278\n",
      "      发病性别倾向       0.85      0.72      0.78        32\n",
      "        None       0.98      0.98      0.98     55060\n",
      "\n",
      "    accuracy                           0.96     65886\n",
      "   macro avg       0.78      0.75      0.76     65886\n",
      "weighted avg       0.96      0.96      0.96     65886\n",
      "\n",
      "confusion_matrix_: \n",
      " [[    2     0     0 ...     0     0     1]\n",
      " [    0    12     0 ...     0     0     3]\n",
      " [    0     0    12 ...     0     0     2]\n",
      " ...\n",
      " [    0     0     0 ...   198     0    14]\n",
      " [    0     0     0 ...     1    23     0]\n",
      " [    0     0     0 ...    16     1 53965]]\n",
      "test loss is:0.159752,test acc is:0.958185,f1_score is:0.757033\n",
      "******************\n"
     ]
    },
    {
     "name": "stderr",
     "output_type": "stream",
     "text": [
      " 22%|██▏       | 100/449 [00:52<03:03,  1.90it/s]"
     ]
    },
    {
     "name": "stdout",
     "output_type": "stream",
     "text": [
      "[99/449],train loss is:0.054022,train evaluation is:13.175556\n"
     ]
    },
    {
     "name": "stderr",
     "output_type": "stream",
     "text": [
      " 45%|████▍     | 200/449 [01:45<02:11,  1.90it/s]"
     ]
    },
    {
     "name": "stdout",
     "output_type": "stream",
     "text": [
      "[199/449],train loss is:0.051770,train evaluation is:13.300444\n"
     ]
    },
    {
     "name": "stderr",
     "output_type": "stream",
     "text": [
      " 67%|██████▋   | 300/449 [02:37<01:18,  1.90it/s]"
     ]
    },
    {
     "name": "stdout",
     "output_type": "stream",
     "text": [
      "[299/449],train loss is:0.051319,train evaluation is:13.435556\n"
     ]
    },
    {
     "name": "stderr",
     "output_type": "stream",
     "text": [
      " 89%|████████▉ | 400/449 [03:30<00:25,  1.89it/s]"
     ]
    },
    {
     "name": "stdout",
     "output_type": "stream",
     "text": [
      "[399/449],train loss is:0.052516,train evaluation is:13.333833\n"
     ]
    },
    {
     "name": "stderr",
     "output_type": "stream",
     "text": [
      "100%|██████████| 449/449 [03:55<00:00,  1.90it/s]\n"
     ]
    },
    {
     "name": "stdout",
     "output_type": "stream",
     "text": [
      "epoch:[1],train loss is:0.052851,train evaluation is:13.209552 \n",
      "\n",
      "classification_report: \n",
      "               precision    recall  f1-score   support\n",
      "\n",
      "        发病机制       0.50      0.17      0.25         6\n",
      "         死亡率       1.00      0.80      0.89        15\n",
      "        传播途径       1.00      0.64      0.78        14\n",
      "          阶段       0.91      0.84      0.88        38\n",
      "        病理生理       1.00      0.46      0.63        13\n",
      " 侵及周围组织转移的症状       0.00      0.00      0.00        12\n",
      "       组织学检查       0.87      0.59      0.70        92\n",
      "        预后状况       0.91      0.83      0.87        48\n",
      "        发病部位       0.87      0.84      0.85       307\n",
      "          化疗       0.85      0.85      0.85        34\n",
      "        多发地区       0.97      1.00      0.99        35\n",
      "        鉴别诊断       0.79      0.79      0.79       285\n",
      "        病理分型       0.76      0.68      0.72       518\n",
      "          病因       0.83      0.83      0.83       776\n",
      "      风险评估因素       0.57      0.25      0.34       121\n",
      "         同义词       0.94      0.66      0.77       890\n",
      "        发病年龄       0.89      0.86      0.87        56\n",
      "       实验室检查       0.78      0.91      0.84       471\n",
      "         发病率       0.81      0.88      0.84        73\n",
      "      相关（症状）       0.82      0.44      0.57        75\n",
      "        外侵部位       0.50      0.54      0.52        26\n",
      "          筛查       0.88      0.72      0.79        40\n",
      "        放射治疗       0.93      0.83      0.88        30\n",
      "      相关（转化）       0.63      0.35      0.45       165\n",
      "       治疗后症状       0.48      0.56      0.52        25\n",
      "       预后生存率       0.89      0.86      0.87        28\n",
      "        药物治疗       0.95      0.97      0.96      1065\n",
      "        临床表现       0.91      0.93      0.92      2948\n",
      "        手术治疗       0.95      0.96      0.96       196\n",
      "        辅助治疗       0.93      0.91      0.92       393\n",
      "         并发症       0.70      0.75      0.72       532\n",
      "      相关（导致）       0.57      0.65      0.61       327\n",
      "        转移部位       0.67      0.50      0.57        52\n",
      "        多发群体       0.81      0.85      0.83       151\n",
      "        多发季节       1.00      1.00      1.00        15\n",
      "          病史       0.54      0.54      0.54        35\n",
      "          预防       1.00      0.96      0.98        80\n",
      "        就诊科室       1.00      0.75      0.86         4\n",
      "        遗传因素       0.78      0.64      0.70        22\n",
      "       影像学检查       0.86      0.92      0.89       332\n",
      "       内窥镜检查       0.90      0.85      0.88        41\n",
      "        辅助检查       0.71      0.48      0.58       130\n",
      "        高危因素       0.62      0.78      0.69       278\n",
      "      发病性别倾向       0.82      0.72      0.77        32\n",
      "        None       0.98      0.98      0.98     55060\n",
      "\n",
      "    accuracy                           0.96     65886\n",
      "   macro avg       0.80      0.72      0.75     65886\n",
      "weighted avg       0.96      0.96      0.96     65886\n",
      "\n",
      "confusion_matrix_: \n",
      " [[    1     0     0 ...     0     0     1]\n",
      " [    0    12     0 ...     0     0     3]\n",
      " [    0     0     9 ...     0     0     3]\n",
      " ...\n",
      " [    0     0     0 ...   218     0    13]\n",
      " [    0     0     0 ...     1    23     2]\n",
      " [    0     0     0 ...    20     0 54220]]\n",
      "test loss is:0.170255,test acc is:0.958170,f1_score is:0.747835\n",
      "******************\n"
     ]
    },
    {
     "name": "stderr",
     "output_type": "stream",
     "text": [
      " 22%|██▏       | 100/449 [00:52<03:03,  1.91it/s]"
     ]
    },
    {
     "name": "stdout",
     "output_type": "stream",
     "text": [
      "[99/449],train loss is:0.050055,train evaluation is:12.992889\n"
     ]
    },
    {
     "name": "stderr",
     "output_type": "stream",
     "text": [
      " 45%|████▍     | 200/449 [01:45<02:10,  1.90it/s]"
     ]
    },
    {
     "name": "stdout",
     "output_type": "stream",
     "text": [
      "[199/449],train loss is:0.047577,train evaluation is:13.227444\n"
     ]
    },
    {
     "name": "stderr",
     "output_type": "stream",
     "text": [
      " 67%|██████▋   | 300/449 [02:38<01:18,  1.90it/s]"
     ]
    },
    {
     "name": "stdout",
     "output_type": "stream",
     "text": [
      "[299/449],train loss is:0.047608,train evaluation is:13.344741\n"
     ]
    },
    {
     "name": "stderr",
     "output_type": "stream",
     "text": [
      " 89%|████████▉ | 400/449 [03:30<00:25,  1.90it/s]"
     ]
    },
    {
     "name": "stdout",
     "output_type": "stream",
     "text": [
      "[399/449],train loss is:0.048061,train evaluation is:13.204667\n"
     ]
    },
    {
     "name": "stderr",
     "output_type": "stream",
     "text": [
      "100%|██████████| 449/449 [03:56<00:00,  1.90it/s]\n"
     ]
    },
    {
     "name": "stdout",
     "output_type": "stream",
     "text": [
      "epoch:[2],train loss is:0.047853,train evaluation is:13.225043 \n",
      "\n",
      "classification_report: \n",
      "               precision    recall  f1-score   support\n",
      "\n",
      "        发病机制       0.25      0.17      0.20         6\n",
      "         死亡率       1.00      0.80      0.89        15\n",
      "        传播途径       1.00      0.50      0.67        14\n",
      "          阶段       0.89      0.84      0.86        38\n",
      "        病理生理       1.00      0.31      0.47        13\n",
      " 侵及周围组织转移的症状       0.00      0.00      0.00        12\n",
      "       组织学检查       0.85      0.61      0.71        92\n",
      "        预后状况       0.91      0.88      0.89        48\n",
      "        发病部位       0.83      0.91      0.87       307\n",
      "          化疗       0.93      0.79      0.86        34\n",
      "        多发地区       0.97      1.00      0.99        35\n",
      "        鉴别诊断       0.70      0.82      0.76       285\n",
      "        病理分型       0.75      0.71      0.73       518\n",
      "          病因       0.80      0.88      0.84       776\n",
      "      风险评估因素       0.54      0.41      0.47       121\n",
      "         同义词       0.86      0.74      0.80       890\n",
      "        发病年龄       0.70      0.88      0.78        56\n",
      "       实验室检查       0.79      0.89      0.84       471\n",
      "         发病率       0.82      0.88      0.85        73\n",
      "      相关（症状）       0.53      0.67      0.59        75\n",
      "        外侵部位       0.52      0.42      0.47        26\n",
      "          筛查       0.81      0.75      0.78        40\n",
      "        放射治疗       0.86      0.83      0.85        30\n",
      "      相关（转化）       0.63      0.34      0.44       165\n",
      "       治疗后症状       0.45      0.56      0.50        25\n",
      "       预后生存率       0.96      0.86      0.91        28\n",
      "        药物治疗       0.96      0.96      0.96      1065\n",
      "        临床表现       0.94      0.91      0.92      2948\n",
      "        手术治疗       0.91      0.96      0.94       196\n",
      "        辅助治疗       0.90      0.91      0.91       393\n",
      "         并发症       0.72      0.74      0.73       532\n",
      "      相关（导致）       0.69      0.56      0.62       327\n",
      "        转移部位       0.94      0.31      0.46        52\n",
      "        多发群体       0.82      0.81      0.82       151\n",
      "        多发季节       1.00      1.00      1.00        15\n",
      "          病史       0.55      0.66      0.60        35\n",
      "          预防       0.99      0.97      0.98        80\n",
      "        就诊科室       1.00      0.75      0.86         4\n",
      "        遗传因素       0.83      0.68      0.75        22\n",
      "       影像学检查       0.90      0.88      0.89       332\n",
      "       内窥镜检查       0.90      0.88      0.89        41\n",
      "        辅助检查       0.66      0.58      0.62       130\n",
      "        高危因素       0.72      0.62      0.67       278\n",
      "      发病性别倾向       0.84      0.66      0.74        32\n",
      "        None       0.98      0.99      0.98     55060\n",
      "\n",
      "    accuracy                           0.96     65886\n",
      "   macro avg       0.79      0.72      0.74     65886\n",
      "weighted avg       0.96      0.96      0.96     65886\n",
      "\n",
      "confusion_matrix_: \n",
      " [[    1     0     0 ...     0     0     1]\n",
      " [    0    12     0 ...     0     0     3]\n",
      " [    0     0     7 ...     0     0     3]\n",
      " ...\n",
      " [    0     0     0 ...   173     0    17]\n",
      " [    0     0     0 ...     1    21     3]\n",
      " [    0     0     0 ...    13     0 54245]]\n",
      "test loss is:0.168959,test acc is:0.959081,f1_score is:0.740422\n",
      "******************\n"
     ]
    },
    {
     "name": "stderr",
     "output_type": "stream",
     "text": [
      " 22%|██▏       | 100/449 [00:52<03:03,  1.90it/s]"
     ]
    },
    {
     "name": "stdout",
     "output_type": "stream",
     "text": [
      "[99/449],train loss is:0.045359,train evaluation is:13.706444\n"
     ]
    },
    {
     "name": "stderr",
     "output_type": "stream",
     "text": [
      " 45%|████▍     | 200/449 [01:45<02:11,  1.90it/s]"
     ]
    },
    {
     "name": "stdout",
     "output_type": "stream",
     "text": [
      "[199/449],train loss is:0.043236,train evaluation is:13.771222\n"
     ]
    },
    {
     "name": "stderr",
     "output_type": "stream",
     "text": [
      " 67%|██████▋   | 300/449 [02:37<01:19,  1.88it/s]"
     ]
    },
    {
     "name": "stdout",
     "output_type": "stream",
     "text": [
      "[299/449],train loss is:0.043686,train evaluation is:13.533704\n"
     ]
    },
    {
     "name": "stderr",
     "output_type": "stream",
     "text": [
      " 89%|████████▉ | 400/449 [03:30<00:25,  1.90it/s]"
     ]
    },
    {
     "name": "stdout",
     "output_type": "stream",
     "text": [
      "[399/449],train loss is:0.044401,train evaluation is:13.216611\n"
     ]
    },
    {
     "name": "stderr",
     "output_type": "stream",
     "text": [
      "100%|██████████| 449/449 [03:56<00:00,  1.90it/s]\n"
     ]
    },
    {
     "name": "stdout",
     "output_type": "stream",
     "text": [
      "epoch:[3],train loss is:0.044196,train evaluation is:13.240535 \n",
      "\n",
      "classification_report: \n",
      "               precision    recall  f1-score   support\n",
      "\n",
      "        发病机制       0.40      0.33      0.36         6\n",
      "         死亡率       1.00      0.80      0.89        15\n",
      "        传播途径       1.00      0.64      0.78        14\n",
      "          阶段       0.82      0.87      0.85        38\n",
      "        病理生理       1.00      0.46      0.63        13\n",
      " 侵及周围组织转移的症状       0.00      0.00      0.00        12\n",
      "       组织学检查       0.84      0.64      0.73        92\n",
      "        预后状况       0.94      0.92      0.93        48\n",
      "        发病部位       0.81      0.92      0.86       307\n",
      "          化疗       0.77      0.79      0.78        34\n",
      "        多发地区       0.97      0.94      0.96        35\n",
      "        鉴别诊断       0.83      0.80      0.81       285\n",
      "        病理分型       0.77      0.69      0.73       518\n",
      "          病因       0.83      0.86      0.84       776\n",
      "      风险评估因素       0.43      0.49      0.46       121\n",
      "         同义词       0.84      0.77      0.80       890\n",
      "        发病年龄       0.83      0.86      0.84        56\n",
      "       实验室检查       0.79      0.90      0.84       471\n",
      "         发病率       0.82      0.88      0.85        73\n",
      "      相关（症状）       0.64      0.71      0.67        75\n",
      "        外侵部位       0.77      0.38      0.51        26\n",
      "          筛查       0.93      0.70      0.80        40\n",
      "        放射治疗       0.92      0.77      0.84        30\n",
      "      相关（转化）       0.61      0.38      0.47       165\n",
      "       治疗后症状       0.42      0.64      0.51        25\n",
      "       预后生存率       1.00      0.86      0.92        28\n",
      "        药物治疗       0.95      0.97      0.96      1065\n",
      "        临床表现       0.92      0.93      0.92      2948\n",
      "        手术治疗       0.94      0.96      0.95       196\n",
      "        辅助治疗       0.89      0.94      0.92       393\n",
      "         并发症       0.75      0.75      0.75       532\n",
      "      相关（导致）       0.58      0.61      0.59       327\n",
      "        转移部位       0.79      0.42      0.55        52\n",
      "        多发群体       0.85      0.87      0.86       151\n",
      "        多发季节       1.00      1.00      1.00        15\n",
      "          病史       0.57      0.74      0.64        35\n",
      "          预防       1.00      0.97      0.99        80\n",
      "        就诊科室       1.00      0.75      0.86         4\n",
      "        遗传因素       0.67      0.64      0.65        22\n",
      "       影像学检查       0.89      0.89      0.89       332\n",
      "       内窥镜检查       0.88      0.85      0.86        41\n",
      "        辅助检查       0.68      0.59      0.63       130\n",
      "        高危因素       0.80      0.66      0.72       278\n",
      "      发病性别倾向       0.87      0.81      0.84        32\n",
      "        None       0.98      0.98      0.98     55060\n",
      "\n",
      "    accuracy                           0.96     65886\n",
      "   macro avg       0.80      0.74      0.76     65886\n",
      "weighted avg       0.96      0.96      0.96     65886\n",
      "\n",
      "confusion_matrix_: \n",
      " [[    2     0     0 ...     0     0     1]\n",
      " [    0    12     0 ...     0     0     2]\n",
      " [    0     0     9 ...     0     0     3]\n",
      " ...\n",
      " [    0     0     0 ...   183     0    11]\n",
      " [    0     0     0 ...     1    26     0]\n",
      " [    0     0     0 ...     8     0 54157]]\n",
      "test loss is:0.170313,test acc is:0.960083,f1_score is:0.760928\n",
      "******************\n"
     ]
    },
    {
     "name": "stderr",
     "output_type": "stream",
     "text": [
      " 22%|██▏       | 100/449 [00:52<03:04,  1.89it/s]"
     ]
    },
    {
     "name": "stdout",
     "output_type": "stream",
     "text": [
      "[99/449],train loss is:0.040861,train evaluation is:13.304000\n"
     ]
    },
    {
     "name": "stderr",
     "output_type": "stream",
     "text": [
      " 45%|████▍     | 200/449 [01:45<02:11,  1.89it/s]"
     ]
    },
    {
     "name": "stdout",
     "output_type": "stream",
     "text": [
      "[199/449],train loss is:0.042164,train evaluation is:13.520222\n"
     ]
    },
    {
     "name": "stderr",
     "output_type": "stream",
     "text": [
      " 67%|██████▋   | 300/449 [02:37<01:18,  1.90it/s]"
     ]
    },
    {
     "name": "stdout",
     "output_type": "stream",
     "text": [
      "[299/449],train loss is:0.042174,train evaluation is:13.208519\n"
     ]
    },
    {
     "name": "stderr",
     "output_type": "stream",
     "text": [
      " 89%|████████▉ | 400/449 [03:30<00:25,  1.90it/s]"
     ]
    },
    {
     "name": "stdout",
     "output_type": "stream",
     "text": [
      "[399/449],train loss is:0.041089,train evaluation is:13.206500\n"
     ]
    },
    {
     "name": "stderr",
     "output_type": "stream",
     "text": [
      "100%|██████████| 449/449 [03:56<00:00,  1.90it/s]\n"
     ]
    },
    {
     "name": "stdout",
     "output_type": "stream",
     "text": [
      "epoch:[4],train loss is:0.041317,train evaluation is:13.248057 \n",
      "\n",
      "classification_report: \n",
      "               precision    recall  f1-score   support\n",
      "\n",
      "        发病机制       0.25      0.17      0.20         6\n",
      "         死亡率       0.92      0.80      0.86        15\n",
      "        传播途径       1.00      0.64      0.78        14\n",
      "          阶段       0.89      0.82      0.85        38\n",
      "        病理生理       1.00      0.54      0.70        13\n",
      " 侵及周围组织转移的症状       0.00      0.00      0.00        12\n",
      "       组织学检查       0.94      0.51      0.66        92\n",
      "        预后状况       0.95      0.88      0.91        48\n",
      "        发病部位       0.83      0.88      0.86       307\n",
      "          化疗       0.85      0.68      0.75        34\n",
      "        多发地区       0.97      1.00      0.99        35\n",
      "        鉴别诊断       0.80      0.81      0.81       285\n",
      "        病理分型       0.76      0.69      0.73       518\n",
      "          病因       0.87      0.80      0.83       776\n",
      "      风险评估因素       0.51      0.45      0.48       121\n",
      "         同义词       0.89      0.72      0.80       890\n",
      "        发病年龄       0.83      0.86      0.84        56\n",
      "       实验室检查       0.76      0.92      0.83       471\n",
      "         发病率       0.91      0.82      0.86        73\n",
      "      相关（症状）       0.54      0.71      0.61        75\n",
      "        外侵部位       0.77      0.38      0.51        26\n",
      "          筛查       0.88      0.70      0.78        40\n",
      "        放射治疗       0.90      0.60      0.72        30\n",
      "      相关（转化）       0.52      0.30      0.38       165\n",
      "       治疗后症状       0.48      0.56      0.52        25\n",
      "       预后生存率       1.00      0.86      0.92        28\n",
      "        药物治疗       0.96      0.96      0.96      1065\n",
      "        临床表现       0.91      0.93      0.92      2948\n",
      "        手术治疗       0.94      0.95      0.95       196\n",
      "        辅助治疗       0.90      0.92      0.91       393\n",
      "         并发症       0.83      0.65      0.73       532\n",
      "      相关（导致）       0.63      0.66      0.64       327\n",
      "        转移部位       0.88      0.42      0.57        52\n",
      "        多发群体       0.83      0.85      0.84       151\n",
      "        多发季节       1.00      1.00      1.00        15\n",
      "          病史       0.61      0.54      0.58        35\n",
      "          预防       0.99      0.97      0.98        80\n",
      "        就诊科室       1.00      0.75      0.86         4\n",
      "        遗传因素       0.67      0.73      0.70        22\n",
      "       影像学检查       0.91      0.86      0.88       332\n",
      "       内窥镜检查       0.90      0.85      0.88        41\n",
      "        辅助检查       0.72      0.52      0.60       130\n",
      "        高危因素       0.72      0.72      0.72       278\n",
      "      发病性别倾向       0.84      0.81      0.83        32\n",
      "        None       0.98      0.99      0.98     55060\n",
      "\n",
      "    accuracy                           0.96     65886\n",
      "   macro avg       0.81      0.72      0.75     65886\n",
      "weighted avg       0.96      0.96      0.96     65886\n",
      "\n",
      "confusion_matrix_: \n",
      " [[    1     0     0 ...     0     0     1]\n",
      " [    0    12     0 ...     0     0     3]\n",
      " [    0     0     9 ...     0     0     3]\n",
      " ...\n",
      " [    0     0     0 ...   201     0    18]\n",
      " [    0     0     0 ...     1    26     0]\n",
      " [    0     1     0 ...    14     0 54292]]\n",
      "test loss is:0.178800,test acc is:0.959217,f1_score is:0.749078\n",
      "******************\n"
     ]
    }
   ],
   "source": [
    "model.fit(\n",
    "    re_train_dataset,\n",
    "    re_dev_dataset,\n",
    "    epochs=5,\n",
    "    batch_size=32\n",
    ")"
   ]
  },
  {
   "cell_type": "code",
   "execution_count": 15,
   "metadata": {},
   "outputs": [
    {
     "ename": "AssertionError",
     "evalue": "",
     "output_type": "error",
     "traceback": [
      "\u001b[0;31m---------------------------------------------------------------------------\u001b[0m",
      "\u001b[0;31mAssertionError\u001b[0m                            Traceback (most recent call last)",
      "\u001b[0;32m<ipython-input-15-9772cd99090a>\u001b[0m in \u001b[0;36m<module>\u001b[0;34m\u001b[0m\n\u001b[0;32m----> 1\u001b[0;31m \u001b[0;32massert\u001b[0m\u001b[0;34m(\u001b[0m\u001b[0;36m1\u001b[0m\u001b[0;34m>\u001b[0m\u001b[0;36m2\u001b[0m\u001b[0;34m)\u001b[0m\u001b[0;34m\u001b[0m\u001b[0;34m\u001b[0m\u001b[0m\n\u001b[0m",
      "\u001b[0;31mAssertionError\u001b[0m: "
     ]
    }
   ],
   "source": [
    "assert(1>2)"
   ]
  },
  {
   "cell_type": "markdown",
   "metadata": {},
   "source": [
    "<br>\n",
    "\n",
    "### 四、模型预测"
   ]
  },
  {
   "cell_type": "code",
   "execution_count": 17,
   "metadata": {},
   "outputs": [],
   "source": [
    "from tqdm import tqdm\n",
    "from ark_nlp.model.re.afea_bert import Predictor\n",
    "\n",
    "afea_re_predictor_instance = Predictor(model.module, tokenizer, re_train_dataset.cat2id)"
   ]
  },
  {
   "cell_type": "code",
   "execution_count": 18,
   "metadata": {},
   "outputs": [],
   "source": [
    "text = '急性胰腺炎@有研究显示，进行早期 ERCP （24 小时内）可以降低梗阻性胆总管结石患者的并发症发生率和死亡率； 但是，对于无胆总管梗阻的胆汁性急性胰腺炎患者，不需要进行早期 ERCP。'\n",
    "entities = [('急性胰腺炎', '疾病', 0, 4), ('ERCP', '检查', 17, 20)]"
   ]
  },
  {
   "cell_type": "code",
   "execution_count": 19,
   "metadata": {},
   "outputs": [
    {
     "data": {
      "text/plain": [
       "[[('急性胰腺炎', '疾病', 0, 4), '影像学检查', ('ERCP', '检查', 17, 20)],\n",
       " [('ERCP', '检查', 17, 20), 'None', ('急性胰腺炎', '疾病', 0, 4)]]"
      ]
     },
     "execution_count": 19,
     "metadata": {},
     "output_type": "execute_result"
    }
   ],
   "source": [
    "afea_re_predictor_instance.predict_one_sample(text, entities, topk=1)"
   ]
  },
  {
   "cell_type": "markdown",
   "metadata": {},
   "source": [
    "<br>\n",
    "\n",
    "### 五、CMeIE结果输出"
   ]
  },
  {
   "cell_type": "code",
   "execution_count": 20,
   "metadata": {},
   "outputs": [],
   "source": [
    "test_df = pd.read_json('output_datasets/CMeEE_test.json')"
   ]
  },
  {
   "cell_type": "code",
   "execution_count": 21,
   "metadata": {},
   "outputs": [],
   "source": [
    "test_df['entities'] = test_df['entities'].apply(lambda x: [(entity['entity'], entity['type'], int(entity['start_idx']), int(entity['end_idx'])) for entity in x])"
   ]
  },
  {
   "cell_type": "code",
   "execution_count": 22,
   "metadata": {},
   "outputs": [
    {
     "name": "stderr",
     "output_type": "stream",
     "text": [
      "4482it [01:03, 70.61it/s]\n"
     ]
    }
   ],
   "source": [
    "result = []\n",
    "for text, entities in tqdm(zip(test_df['text'], test_df['entities'])):\n",
    "    result.append(afea_re_predictor_instance.predict_one_sample(text, entities, topk=1))"
   ]
  },
  {
   "cell_type": "code",
   "execution_count": 23,
   "metadata": {},
   "outputs": [],
   "source": [
    "test_df['triples'] = result"
   ]
  },
  {
   "cell_type": "code",
   "execution_count": 24,
   "metadata": {},
   "outputs": [
    {
     "data": {
      "text/html": [
       "<div>\n",
       "<style scoped>\n",
       "    .dataframe tbody tr th:only-of-type {\n",
       "        vertical-align: middle;\n",
       "    }\n",
       "\n",
       "    .dataframe tbody tr th {\n",
       "        vertical-align: top;\n",
       "    }\n",
       "\n",
       "    .dataframe thead th {\n",
       "        text-align: right;\n",
       "    }\n",
       "</style>\n",
       "<table border=\"1\" class=\"dataframe\">\n",
       "  <thead>\n",
       "    <tr style=\"text-align: right;\">\n",
       "      <th></th>\n",
       "      <th>text</th>\n",
       "      <th>entities</th>\n",
       "      <th>triples</th>\n",
       "    </tr>\n",
       "  </thead>\n",
       "  <tbody>\n",
       "    <tr>\n",
       "      <th>0</th>\n",
       "      <td>痔@肛镜检查方法简便安全，可全方位观察肛管及所有痔组织。痔@另一种替代的方法为纤维内窥镜反转...</td>\n",
       "      <td>[(肛镜检查, 检查, 2, 5), (纤维内窥镜, 检查, 39, 43), (纤维内窥镜...</td>\n",
       "      <td>[[(肛镜检查, 检查, 2, 5), None, (纤维内窥镜, 检查, 39, 43)]...</td>\n",
       "    </tr>\n",
       "    <tr>\n",
       "      <th>1</th>\n",
       "      <td>慢性肾病@进行眼底检查十分必要，因为其有助于诊断糖尿病性或高血压性视网膜病变，有助于判断在肾...</td>\n",
       "      <td>[(眼底检查, 检查, 7, 10), (慢性肾病, 疾病, 0, 3), (高血压性视网膜...</td>\n",
       "      <td>[[(眼底检查, 检查, 7, 10), None, (慢性肾病, 疾病, 0, 3)], ...</td>\n",
       "    </tr>\n",
       "    <tr>\n",
       "      <th>2</th>\n",
       "      <td>5.药物因素 引起消化性溃疡的药物中较重要的有三类：①阿司匹林（ASA）；②非甾体抗炎药物（...</td>\n",
       "      <td>[(消化性溃疡, 疾病, 9, 13), (阿司匹林, 疾病, 27, 30), (非甾体抗...</td>\n",
       "      <td>[[(消化性溃疡, 疾病, 9, 13), 病因, (阿司匹林, 疾病, 27, 30)],...</td>\n",
       "    </tr>\n",
       "    <tr>\n",
       "      <th>3</th>\n",
       "      <td>登革热@大约 90% 的登革出血热 (dengue haemorrhagic fever, ...</td>\n",
       "      <td>[(5 岁以下儿童, 流行病学, 55, 61), (成人, 流行病学, 78, 79), ...</td>\n",
       "      <td>[[(5 岁以下儿童, 流行病学, 55, 61), None, (成人, 流行病学, 78...</td>\n",
       "    </tr>\n",
       "    <tr>\n",
       "      <th>4</th>\n",
       "      <td>【病因】 缺氧是HIE发病的核心,其中围生期窒息是最主要的病因。 【发病机制】 脑血流改变 ...</td>\n",
       "      <td>[(HIE, 疾病, 8, 10), (缺氧, 社会学, 5, 6), (围生期窒息, 社会...</td>\n",
       "      <td>[[(HIE, 疾病, 8, 10), 病因, (缺氧, 社会学, 5, 6)], [(HI...</td>\n",
       "    </tr>\n",
       "    <tr>\n",
       "      <th>...</th>\n",
       "      <td>...</td>\n",
       "      <td>...</td>\n",
       "      <td>...</td>\n",
       "    </tr>\n",
       "    <tr>\n",
       "      <th>4477</th>\n",
       "      <td>铅中毒@由于总体的毒性作用及缺乏确认的疗效，在非妊娠患者中青霉胺是三线药物。</td>\n",
       "      <td>[(铅中毒, 疾病, 0, 2), (青霉胺, 药物, 29, 31)]</td>\n",
       "      <td>[[(铅中毒, 疾病, 0, 2), 药物治疗, (青霉胺, 药物, 29, 31)], [...</td>\n",
       "    </tr>\n",
       "    <tr>\n",
       "      <th>4478</th>\n",
       "      <td>狂犬病@可通过直接荧光抗体检测出狂犬病病毒抗原或PCR检测出狂犬病病毒RNA 。</td>\n",
       "      <td>[(荧光抗体, 检查, 9, 12), (PCR, 检查, 24, 26), (狂犬病, 疾...</td>\n",
       "      <td>[[(荧光抗体, 检查, 9, 12), None, (PCR, 检查, 24, 26)],...</td>\n",
       "    </tr>\n",
       "    <tr>\n",
       "      <th>4479</th>\n",
       "      <td>（二）中型至大型缺损 患儿常在生后1～2个月肺循环阻力下降时出现临床表现。由于肺循环流量大产...</td>\n",
       "      <td>[(中型至大型缺损, 疾病, 3, 9), (肺静脉压力增高, 症状, 51, 57), (...</td>\n",
       "      <td>[[(中型至大型缺损, 疾病, 3, 9), 临床表现, (肺静脉压力增高, 症状, 51,...</td>\n",
       "    </tr>\n",
       "    <tr>\n",
       "      <th>4480</th>\n",
       "      <td>狂犬病@ 麻痹型狂犬病 * 前驱期发热症状后快速进展为弛缓性瘫痪。狂犬病@之后发生行为改变。</td>\n",
       "      <td>[(狂犬病, 疾病, 0, 2), (麻痹型狂犬病, 疾病, 5, 10), (弛缓性瘫痪,...</td>\n",
       "      <td>[[(狂犬病, 疾病, 0, 2), 病理分型, (麻痹型狂犬病, 疾病, 5, 10)],...</td>\n",
       "    </tr>\n",
       "    <tr>\n",
       "      <th>4481</th>\n",
       "      <td>原发性肾病综合征的病因不清楚，其发病往往因呼吸道感染及过敏反应等而触发，继发性肾病综合征病因...</td>\n",
       "      <td>[(原发性肾病综合征, 疾病, 0, 7), (继发性肾病综合征病, 疾病, 36, 44)...</td>\n",
       "      <td>[[(原发性肾病综合征, 疾病, 0, 7), None, (继发性肾病综合征病, 疾病, ...</td>\n",
       "    </tr>\n",
       "  </tbody>\n",
       "</table>\n",
       "<p>4482 rows × 3 columns</p>\n",
       "</div>"
      ],
      "text/plain": [
       "                                                   text  \\\n",
       "0     痔@肛镜检查方法简便安全，可全方位观察肛管及所有痔组织。痔@另一种替代的方法为纤维内窥镜反转...   \n",
       "1     慢性肾病@进行眼底检查十分必要，因为其有助于诊断糖尿病性或高血压性视网膜病变，有助于判断在肾...   \n",
       "2     5.药物因素 引起消化性溃疡的药物中较重要的有三类：①阿司匹林（ASA）；②非甾体抗炎药物（...   \n",
       "3     登革热@大约 90% 的登革出血热 (dengue haemorrhagic fever, ...   \n",
       "4     【病因】 缺氧是HIE发病的核心,其中围生期窒息是最主要的病因。 【发病机制】 脑血流改变 ...   \n",
       "...                                                 ...   \n",
       "4477             铅中毒@由于总体的毒性作用及缺乏确认的疗效，在非妊娠患者中青霉胺是三线药物。   \n",
       "4478           狂犬病@可通过直接荧光抗体检测出狂犬病病毒抗原或PCR检测出狂犬病病毒RNA 。   \n",
       "4479  （二）中型至大型缺损 患儿常在生后1～2个月肺循环阻力下降时出现临床表现。由于肺循环流量大产...   \n",
       "4480     狂犬病@ 麻痹型狂犬病 * 前驱期发热症状后快速进展为弛缓性瘫痪。狂犬病@之后发生行为改变。   \n",
       "4481  原发性肾病综合征的病因不清楚，其发病往往因呼吸道感染及过敏反应等而触发，继发性肾病综合征病因...   \n",
       "\n",
       "                                               entities  \\\n",
       "0     [(肛镜检查, 检查, 2, 5), (纤维内窥镜, 检查, 39, 43), (纤维内窥镜...   \n",
       "1     [(眼底检查, 检查, 7, 10), (慢性肾病, 疾病, 0, 3), (高血压性视网膜...   \n",
       "2     [(消化性溃疡, 疾病, 9, 13), (阿司匹林, 疾病, 27, 30), (非甾体抗...   \n",
       "3     [(5 岁以下儿童, 流行病学, 55, 61), (成人, 流行病学, 78, 79), ...   \n",
       "4     [(HIE, 疾病, 8, 10), (缺氧, 社会学, 5, 6), (围生期窒息, 社会...   \n",
       "...                                                 ...   \n",
       "4477               [(铅中毒, 疾病, 0, 2), (青霉胺, 药物, 29, 31)]   \n",
       "4478  [(荧光抗体, 检查, 9, 12), (PCR, 检查, 24, 26), (狂犬病, 疾...   \n",
       "4479  [(中型至大型缺损, 疾病, 3, 9), (肺静脉压力增高, 症状, 51, 57), (...   \n",
       "4480  [(狂犬病, 疾病, 0, 2), (麻痹型狂犬病, 疾病, 5, 10), (弛缓性瘫痪,...   \n",
       "4481  [(原发性肾病综合征, 疾病, 0, 7), (继发性肾病综合征病, 疾病, 36, 44)...   \n",
       "\n",
       "                                                triples  \n",
       "0     [[(肛镜检查, 检查, 2, 5), None, (纤维内窥镜, 检查, 39, 43)]...  \n",
       "1     [[(眼底检查, 检查, 7, 10), None, (慢性肾病, 疾病, 0, 3)], ...  \n",
       "2     [[(消化性溃疡, 疾病, 9, 13), 病因, (阿司匹林, 疾病, 27, 30)],...  \n",
       "3     [[(5 岁以下儿童, 流行病学, 55, 61), None, (成人, 流行病学, 78...  \n",
       "4     [[(HIE, 疾病, 8, 10), 病因, (缺氧, 社会学, 5, 6)], [(HI...  \n",
       "...                                                 ...  \n",
       "4477  [[(铅中毒, 疾病, 0, 2), 药物治疗, (青霉胺, 药物, 29, 31)], [...  \n",
       "4478  [[(荧光抗体, 检查, 9, 12), None, (PCR, 检查, 24, 26)],...  \n",
       "4479  [[(中型至大型缺损, 疾病, 3, 9), 临床表现, (肺静脉压力增高, 症状, 51,...  \n",
       "4480  [[(狂犬病, 疾病, 0, 2), 病理分型, (麻痹型狂犬病, 疾病, 5, 10)],...  \n",
       "4481  [[(原发性肾病综合征, 疾病, 0, 7), None, (继发性肾病综合征病, 疾病, ...  \n",
       "\n",
       "[4482 rows x 3 columns]"
      ]
     },
     "execution_count": 24,
     "metadata": {},
     "output_type": "execute_result"
    }
   ],
   "source": [
    "test_df"
   ]
  },
  {
   "cell_type": "code",
   "execution_count": 25,
   "metadata": {},
   "outputs": [],
   "source": [
    "result_ = []\n",
    "for triples in result:\n",
    "    \n",
    "    triples_ = []\n",
    "    for triple in triples:\n",
    "        \n",
    "        if triple[1] == 'None' or triple[0][1] != '疾病':\n",
    "            continue\n",
    "        predicate = triple[1] + '@' + triple[2][1]\n",
    "        \n",
    "        triples_.append((triple[0][0], predicate, triple[2][0]))\n",
    "    result_.append(triples_)"
   ]
  },
  {
   "cell_type": "code",
   "execution_count": 26,
   "metadata": {},
   "outputs": [],
   "source": [
    "test_data_path = '/home/shencj/workspace/data/medical/CBLUE/CMeIE/CMeIE_test.json'\n",
    "schemas_data_path = '/home/shencj/workspace/data/medical/CBLUE/CMeIE/53_schemas.json'\n",
    "output_data_path = 'output_datasets/CMeIE_test.json'"
   ]
  },
  {
   "cell_type": "code",
   "execution_count": 27,
   "metadata": {},
   "outputs": [
    {
     "name": "stderr",
     "output_type": "stream",
     "text": [
      "4482it [00:00, 22121.37it/s]\n"
     ]
    }
   ],
   "source": [
    "all_subject_type = []\n",
    "all_predicate = []\n",
    "all_shcemas = []\n",
    "predicate2subject = {}\n",
    "with open(schemas_data_path, 'r', encoding='utf-8') as fs:\n",
    "    for jsonstr in fs.readlines():\n",
    "        jsonstr = json.loads(jsonstr)\n",
    "        # all_shcemas.append(jsonstr)\n",
    "        \n",
    "        predicate2subject[jsonstr['predicate']+'@'+jsonstr['object_type']] = jsonstr['subject_type']\n",
    "        \n",
    "    fs.close()\n",
    "    \n",
    "all_predicate = set(all_predicate)\n",
    "with open(output_data_path, 'w', encoding='utf-8') as fw:\n",
    "    with open(test_data_path, 'r', encoding='utf-8') as f:\n",
    "        lines = f.readlines()\n",
    "        for index_, jsonstr in tqdm(enumerate(lines)):\n",
    "            line = json.loads(jsonstr)\n",
    "            results_len = []\n",
    "            sentence = line['text']\n",
    "            dict_list = result_[index_]\n",
    "            new = []\n",
    "            for list_ in dict_list:\n",
    "                for predicate_ in predicate2subject:\n",
    "                    if list_[1] == predicate_:\n",
    "                        if list_[-1] != '' and list_[-1] != '[UNK]':\n",
    "                            result_dict = {\n",
    "                                'predicate': predicate_.split('@')[0],\n",
    "                                \"subject\": list_[0],\n",
    "                                'subject_type': predicate2subject[predicate_],\n",
    "                                \"object\": {\"@value\": list_[-1]},\n",
    "                                'object_type': {\"@value\":predicate_.split('@')[-1]}\n",
    "                                }\n",
    "                        else:\n",
    "                            continue\n",
    "                        if result_dict not in new:\n",
    "                            new.append(result_dict)\n",
    "            if sum([item.count('。') for item in sentence]) >= 2:\n",
    "                for item in new:\n",
    "                    item['Combined'] = True\n",
    "            else:\n",
    "                for item in new:\n",
    "                    item['Combined'] = False\n",
    "\n",
    "            if len(new) == 0:\n",
    "                new = [{\n",
    "                    \"Combined\": '',\n",
    "                    \"predicate\": '',\n",
    "                    \"subject\": '',\n",
    "                    \"subject_type\": '',\n",
    "                    \"object\": {\"@value\": \"\"},\n",
    "                    \"object_type\": {\"@value\": \"\"},\n",
    "                }]\n",
    "                pred_dict = {\n",
    "                    \"text\": ''.join(sentence),\n",
    "                    \"spo_list\": new,\n",
    "                }\n",
    "            else:\n",
    "\n",
    "                pred_dict = {\n",
    "                    \"text\": ''.join(sentence),\n",
    "                    \"spo_list\": new,\n",
    "                }\n",
    "            fw.write(json.dumps(pred_dict, ensure_ascii=False) + '\\n')\n",
    "f.close()\n",
    "fw.close()"
   ]
  },
  {
   "cell_type": "code",
   "execution_count": null,
   "metadata": {},
   "outputs": [],
   "source": []
  }
 ],
 "metadata": {
  "kernelspec": {
   "display_name": "Python [transformers]",
   "language": "python",
   "name": "transformers"
  },
  "language_info": {
   "codemirror_mode": {
    "name": "ipython",
    "version": 3
   },
   "file_extension": ".py",
   "mimetype": "text/x-python",
   "name": "python",
   "nbconvert_exporter": "python",
   "pygments_lexer": "ipython3",
   "version": "3.6.12"
  }
 },
 "nbformat": 4,
 "nbformat_minor": 4
}
