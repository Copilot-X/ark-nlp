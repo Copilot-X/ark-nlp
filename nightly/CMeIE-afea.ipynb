{
 "cells": [
  {
   "cell_type": "code",
   "execution_count": 1,
   "metadata": {},
   "outputs": [],
   "source": [
    "import warnings\n",
    "warnings.filterwarnings(\"ignore\")\n",
    "\n",
    "import os\n",
    "import json\n",
    "import jieba\n",
    "import torch\n",
    "import pickle\n",
    "import codecs\n",
    "import torch.nn as nn\n",
    "import torch.optim as optim\n",
    "import pandas as pd\n",
    "\n",
    "import sys\n",
    "sys.path.append('/home/shencj/workspace/code/nlp/Frame/ark-nlp-0.0.5/')\n",
    "\n",
    "from ark_nlp.model.re.afea_bert import AFEABert\n",
    "from ark_nlp.model.re.afea_bert import AFEABertConfig\n",
    "from ark_nlp.model.re.afea_bert import Dataset\n",
    "from ark_nlp.model.re.afea_bert import Task\n",
    "from ark_nlp.model.re.afea_bert import get_default_model_optimizer\n",
    "from ark_nlp.model.re.afea_bert import Tokenizer\n",
    "from ark_nlp.factory.utils.seed import set_seed\n",
    "set_seed(42)"
   ]
  },
  {
   "cell_type": "markdown",
   "metadata": {},
   "source": [
    "### 一、数据读入与处理"
   ]
  },
  {
   "cell_type": "markdown",
   "metadata": {},
   "source": [
    "#### 1. 数据读入"
   ]
  },
  {
   "cell_type": "code",
   "execution_count": 2,
   "metadata": {},
   "outputs": [],
   "source": [
    "# 目录地址\n",
    "\n",
    "train_data_path = '/home/shencj/workspace/data/medical/CBLUE/CMeIE/CMeIE_train.json'\n",
    "dev_data_path = '/home/shencj/workspace/data/medical/CBLUE/CMeIE/CMeIE_dev.json'"
   ]
  },
  {
   "cell_type": "code",
   "execution_count": 3,
   "metadata": {},
   "outputs": [],
   "source": [
    "def data_preprocess(data_path):\n",
    "\n",
    "    data_list = []\n",
    "\n",
    "    with codecs.open(data_path, mode='r', encoding='utf8') as f:\n",
    "        lines = f.readlines()\n",
    "        for index_, line_ in enumerate(lines):\n",
    "            record_ = {}\n",
    "            line_ = json.loads(line_.strip())\n",
    "            record_['text'] = line_['text']\n",
    "            record_['entities'] = []\n",
    "            record_['triples'] = []\n",
    "            for triple_ in line_['spo_list']:\n",
    "                record_['entities'].append([\n",
    "                    triple_['subject'],\n",
    "                    '疾病',\n",
    "                    record_['text'].index(triple_['subject']),\n",
    "                    record_['text'].index(triple_['subject'])+ len(triple_['subject']) - 1,\n",
    "                ])\n",
    "                record_['entities'].append([\n",
    "                    triple_['object']['@value'],\n",
    "                    triple_['object_type']['@value'],\n",
    "                    record_['text'].index(triple_['object']['@value']),\n",
    "                    record_['text'].index(triple_['object']['@value']) + len(triple_['object']['@value']) - 1,\n",
    "                ])\n",
    "                record_['triples'].append([\n",
    "                    triple_['subject'],\n",
    "                    '疾病',\n",
    "                    record_['text'].index(triple_['subject']),\n",
    "                    record_['text'].index(triple_['subject'])+ len(triple_['subject']) - 1,\n",
    "                    triple_['predicate'],\n",
    "                    triple_['object']['@value'],\n",
    "                    triple_['object_type']['@value'],\n",
    "                    record_['text'].index(triple_['object']['@value']),\n",
    "                    record_['text'].index(triple_['object']['@value']) + len(triple_['object']['@value']) - 1,\n",
    "                ])\n",
    "            record_['entities'] = list(set([tuple(entity) for entity in record_['entities']]))\n",
    "            record_['entities'] = sorted(record_['entities'], key = lambda x: x[2])\n",
    "            data_list.append(record_)\n",
    "    return data_list\n",
    "\n",
    "train_data_list = data_preprocess(train_data_path)\n",
    "train_df = pd.DataFrame(train_data_list)\n",
    "\n",
    "dev_data_list = data_preprocess(dev_data_path)\n",
    "dev_df = pd.DataFrame(dev_data_list)"
   ]
  },
  {
   "cell_type": "code",
   "execution_count": 4,
   "metadata": {},
   "outputs": [],
   "source": [
    "# 没有分类标为\"None\"\n",
    "categories = list(set([triple[4] for triples in train_df['triples'] for triple in triples])) + ['None']\n",
    "\n",
    "re_train_dataset = Dataset(train_df, categories=categories)\n",
    "re_dev_dataset = Dataset(dev_df, categories=categories,\n",
    "                         is_train=False)"
   ]
  },
  {
   "cell_type": "markdown",
   "metadata": {},
   "source": [
    "#### 2. 词典创建和生成分词器"
   ]
  },
  {
   "cell_type": "code",
   "execution_count": 5,
   "metadata": {},
   "outputs": [],
   "source": [
    "from transformers import AutoTokenizer\n",
    "bert_vocab = AutoTokenizer.from_pretrained('nghuyong/ernie-1.0')"
   ]
  },
  {
   "cell_type": "code",
   "execution_count": 6,
   "metadata": {},
   "outputs": [
    {
     "data": {
      "text/plain": [
       "22"
      ]
     },
     "execution_count": 6,
     "metadata": {},
     "output_type": "execute_result"
    }
   ],
   "source": [
    "entity_categories = list(set([entity[1] for entities in train_df['entities'] for entity in entities]))\n",
    "special_tokens = []\n",
    "for category in entity_categories:\n",
    "    special_tokens.append(f'[{category}]')\n",
    "    special_tokens.append(f'[/{category}]')\n",
    "bert_vocab.add_special_tokens({'additional_special_tokens': special_tokens})"
   ]
  },
  {
   "cell_type": "code",
   "execution_count": 7,
   "metadata": {},
   "outputs": [],
   "source": [
    "tokenizer = Tokenizer(bert_vocab, max_seq_len=100)"
   ]
  },
  {
   "cell_type": "markdown",
   "metadata": {},
   "source": [
    "#### 3. ID化"
   ]
  },
  {
   "cell_type": "code",
   "execution_count": 8,
   "metadata": {},
   "outputs": [],
   "source": [
    "re_train_dataset.convert_to_ids(tokenizer)\n",
    "re_dev_dataset.convert_to_ids(tokenizer)"
   ]
  },
  {
   "cell_type": "markdown",
   "metadata": {},
   "source": [
    "<br>\n",
    "\n",
    "### 二、模型构建"
   ]
  },
  {
   "cell_type": "markdown",
   "metadata": {},
   "source": [
    "#### 1. 模型参数设置"
   ]
  },
  {
   "cell_type": "code",
   "execution_count": 9,
   "metadata": {},
   "outputs": [],
   "source": [
    "bert_config = AFEABertConfig.from_pretrained('nghuyong/ernie-1.0',\n",
    "                                               num_labels=len(re_train_dataset.cat2id))"
   ]
  },
  {
   "cell_type": "markdown",
   "metadata": {},
   "source": [
    "#### 2. 模型创建"
   ]
  },
  {
   "cell_type": "code",
   "execution_count": 10,
   "metadata": {},
   "outputs": [
    {
     "name": "stderr",
     "output_type": "stream",
     "text": [
      "Some weights of the model checkpoint at nghuyong/ernie-1.0 were not used when initializing AFEABert: ['cls.predictions.bias', 'cls.predictions.transform.dense.weight', 'cls.predictions.transform.dense.bias', 'cls.predictions.transform.LayerNorm.weight', 'cls.predictions.transform.LayerNorm.bias', 'cls.predictions.decoder.weight', 'cls.predictions.decoder.bias']\n",
      "- This IS expected if you are initializing AFEABert from the checkpoint of a model trained on another task or with another architecture (e.g. initializing a BertForSequenceClassification model from a BertForPreTraining model).\n",
      "- This IS NOT expected if you are initializing AFEABert from the checkpoint of a model that you expect to be exactly identical (initializing a BertForSequenceClassification model from a BertForSequenceClassification model).\n",
      "Some weights of AFEABert were not initialized from the model checkpoint at nghuyong/ernie-1.0 and are newly initialized: ['linear.weight', 'linear.bias', 'classifier.weight', 'classifier.bias']\n",
      "You should probably TRAIN this model on a down-stream task to be able to use it for predictions and inference.\n"
     ]
    }
   ],
   "source": [
    "dl_module = AFEABert.from_pretrained('nghuyong/ernie-1.0',\n",
    "                                       config=bert_config)"
   ]
  },
  {
   "cell_type": "markdown",
   "metadata": {},
   "source": [
    "<br>\n",
    "\n",
    "### 三、任务构建"
   ]
  },
  {
   "cell_type": "markdown",
   "metadata": {},
   "source": [
    "#### 1. 任务参数和必要部件设定"
   ]
  },
  {
   "cell_type": "code",
   "execution_count": 11,
   "metadata": {},
   "outputs": [],
   "source": [
    "optimizer = get_default_model_optimizer(dl_module)"
   ]
  },
  {
   "cell_type": "markdown",
   "metadata": {},
   "source": [
    "#### 2. 任务创建"
   ]
  },
  {
   "cell_type": "code",
   "execution_count": 12,
   "metadata": {},
   "outputs": [],
   "source": [
    "model = Task(dl_module, optimizer, 'ce', cuda_device=0)"
   ]
  },
  {
   "cell_type": "markdown",
   "metadata": {},
   "source": [
    "#### 3. 训练"
   ]
  },
  {
   "cell_type": "code",
   "execution_count": 13,
   "metadata": {},
   "outputs": [
    {
     "name": "stderr",
     "output_type": "stream",
     "text": [
      " 22%|██▏       | 100/449 [00:26<01:33,  3.73it/s]"
     ]
    },
    {
     "name": "stdout",
     "output_type": "stream",
     "text": [
      "[99/449],train loss is:1.309226,train evaluation is:6.698444\n"
     ]
    },
    {
     "name": "stderr",
     "output_type": "stream",
     "text": [
      " 45%|████▍     | 200/449 [00:53<01:07,  3.71it/s]"
     ]
    },
    {
     "name": "stdout",
     "output_type": "stream",
     "text": [
      "[199/449],train loss is:1.051003,train evaluation is:6.857333\n"
     ]
    },
    {
     "name": "stderr",
     "output_type": "stream",
     "text": [
      " 67%|██████▋   | 300/449 [01:20<00:40,  3.68it/s]"
     ]
    },
    {
     "name": "stdout",
     "output_type": "stream",
     "text": [
      "[299/449],train loss is:0.908890,train evaluation is:7.067333\n"
     ]
    },
    {
     "name": "stderr",
     "output_type": "stream",
     "text": [
      " 89%|████████▉ | 400/449 [01:47<00:13,  3.68it/s]"
     ]
    },
    {
     "name": "stdout",
     "output_type": "stream",
     "text": [
      "[399/449],train loss is:0.804335,train evaluation is:7.257056\n"
     ]
    },
    {
     "name": "stderr",
     "output_type": "stream",
     "text": [
      "100%|██████████| 449/449 [02:01<00:00,  3.71it/s]\n"
     ]
    },
    {
     "name": "stdout",
     "output_type": "stream",
     "text": [
      "epoch:[0],train loss is:0.768883,train evaluation is:7.240238 \n",
      "\n",
      "classification_report: \n",
      "               precision    recall  f1-score   support\n",
      "\n",
      "          病史       0.00      0.00      0.00        34\n",
      "        多发群体       0.83      0.24      0.37       143\n",
      "         死亡率       0.00      0.00      0.00        13\n",
      "      风险评估因素       0.00      0.00      0.00       109\n",
      "          病因       0.65      0.46      0.54       622\n",
      "        鉴别诊断       0.73      0.30      0.42       258\n",
      "        发病年龄       1.00      0.08      0.14        52\n",
      "          预防       0.00      0.00      0.00        67\n",
      "          阶段       0.00      0.00      0.00        30\n",
      "         发病率       0.61      0.40      0.48        63\n",
      "        预后状况       0.00      0.00      0.00        40\n",
      "        手术治疗       0.75      0.75      0.75       166\n",
      "        药物治疗       0.81      0.91      0.86       893\n",
      "        发病部位       0.79      0.44      0.57       279\n",
      "       实验室检查       0.63      0.78      0.70       406\n",
      "          化疗       0.00      0.00      0.00        27\n",
      "        多发地区       1.00      0.51      0.68        35\n",
      "       内窥镜检查       0.00      0.00      0.00        39\n",
      "        传播途径       0.00      0.00      0.00        10\n",
      "        病理生理       0.00      0.00      0.00         9\n",
      "        放射治疗       0.00      0.00      0.00        29\n",
      " 侵及周围组织转移的症状       0.00      0.00      0.00        12\n",
      "       治疗后症状       0.00      0.00      0.00        17\n",
      "        外侵部位       0.00      0.00      0.00        22\n",
      "        临床表现       0.80      0.80      0.80      2339\n",
      "        辅助检查       0.48      0.13      0.21       105\n",
      "      发病性别倾向       0.00      0.00      0.00        29\n",
      "      相关（症状）       0.00      0.00      0.00        57\n",
      "        辅助治疗       0.62      0.62      0.62       314\n",
      "       组织学检查       0.00      0.00      0.00        73\n",
      "        病理分型       0.61      0.41      0.49       433\n",
      "        遗传因素       0.00      0.00      0.00        19\n",
      "      相关（转化）       0.00      0.00      0.00       132\n",
      "        转移部位       0.00      0.00      0.00        40\n",
      "          筛查       0.00      0.00      0.00        39\n",
      "        高危因素       0.51      0.27      0.35       247\n",
      "       影像学检查       0.68      0.79      0.73       272\n",
      "        多发季节       0.00      0.00      0.00        10\n",
      "        就诊科室       0.00      0.00      0.00         3\n",
      "       预后生存率       0.00      0.00      0.00        18\n",
      "         同义词       0.74      0.51      0.60       774\n",
      "      相关（导致）       0.50      0.00      0.01       255\n",
      "         并发症       0.59      0.19      0.29       438\n",
      "        发病机制       0.00      0.00      0.00         5\n",
      "        None       0.92      0.98      0.95     34671\n",
      "\n",
      "    accuracy                           0.89     43648\n",
      "   macro avg       0.32      0.21      0.23     43648\n",
      "weighted avg       0.86      0.89      0.87     43648\n",
      "\n",
      "confusion_matrix_: \n",
      " [[    0     0     0 ...     2     0    21]\n",
      " [    0    34     0 ...     0     0    92]\n",
      " [    0     0     0 ...     0     0     7]\n",
      " ...\n",
      " [    0     0     0 ...    84     0   245]\n",
      " [    0     0     0 ...     0     0     3]\n",
      " [    0     0     0 ...    19     0 34093]]\n",
      "test loss is:0.438782,test acc is:0.891954,f1_score is:0.234611\n",
      "******************\n"
     ]
    },
    {
     "name": "stderr",
     "output_type": "stream",
     "text": [
      " 22%|██▏       | 100/449 [00:27<01:35,  3.66it/s]"
     ]
    },
    {
     "name": "stdout",
     "output_type": "stream",
     "text": [
      "[99/449],train loss is:0.425494,train evaluation is:7.401111\n"
     ]
    },
    {
     "name": "stderr",
     "output_type": "stream",
     "text": [
      " 45%|████▍     | 200/449 [00:54<01:08,  3.65it/s]"
     ]
    },
    {
     "name": "stdout",
     "output_type": "stream",
     "text": [
      "[199/449],train loss is:0.401296,train evaluation is:7.730000\n"
     ]
    },
    {
     "name": "stderr",
     "output_type": "stream",
     "text": [
      " 67%|██████▋   | 300/449 [01:22<00:40,  3.64it/s]"
     ]
    },
    {
     "name": "stdout",
     "output_type": "stream",
     "text": [
      "[299/449],train loss is:0.384893,train evaluation is:7.790222\n"
     ]
    },
    {
     "name": "stderr",
     "output_type": "stream",
     "text": [
      " 89%|████████▉ | 400/449 [01:49<00:13,  3.64it/s]"
     ]
    },
    {
     "name": "stdout",
     "output_type": "stream",
     "text": [
      "[399/449],train loss is:0.370685,train evaluation is:7.871056\n"
     ]
    },
    {
     "name": "stderr",
     "output_type": "stream",
     "text": [
      "100%|██████████| 449/449 [02:02<00:00,  3.66it/s]\n"
     ]
    },
    {
     "name": "stdout",
     "output_type": "stream",
     "text": [
      "epoch:[1],train loss is:0.366227,train evaluation is:7.830141 \n",
      "\n",
      "classification_report: \n",
      "               precision    recall  f1-score   support\n",
      "\n",
      "          病史       0.00      0.00      0.00        34\n",
      "        多发群体       0.68      0.79      0.73       143\n",
      "         死亡率       0.00      0.00      0.00        13\n",
      "      风险评估因素       0.33      0.02      0.03       109\n",
      "          病因       0.69      0.75      0.72       622\n",
      "        鉴别诊断       0.72      0.59      0.65       258\n",
      "        发病年龄       0.74      0.62      0.67        52\n",
      "          预防       0.69      0.33      0.44        67\n",
      "          阶段       1.00      0.07      0.12        30\n",
      "         发病率       0.60      0.78      0.68        63\n",
      "        预后状况       1.00      0.17      0.30        40\n",
      "        手术治疗       0.73      0.87      0.79       166\n",
      "        药物治疗       0.84      0.94      0.89       893\n",
      "        发病部位       0.72      0.79      0.75       279\n",
      "       实验室检查       0.71      0.85      0.78       406\n",
      "          化疗       0.00      0.00      0.00        27\n",
      "        多发地区       0.83      0.83      0.83        35\n",
      "       内窥镜检查       0.89      0.21      0.33        39\n",
      "        传播途径       0.00      0.00      0.00        10\n",
      "        病理生理       0.00      0.00      0.00         9\n",
      "        放射治疗       0.00      0.00      0.00        29\n",
      " 侵及周围组织转移的症状       0.00      0.00      0.00        12\n",
      "       治疗后症状       0.00      0.00      0.00        17\n",
      "        外侵部位       0.00      0.00      0.00        22\n",
      "        临床表现       0.81      0.86      0.83      2339\n",
      "        辅助检查       0.49      0.36      0.42       105\n",
      "      发病性别倾向       1.00      0.10      0.19        29\n",
      "      相关（症状）       0.00      0.00      0.00        57\n",
      "        辅助治疗       0.67      0.72      0.70       314\n",
      "       组织学检查       0.82      0.44      0.57        73\n",
      "        病理分型       0.65      0.55      0.60       433\n",
      "        遗传因素       1.00      0.05      0.10        19\n",
      "      相关（转化）       0.00      0.00      0.00       132\n",
      "        转移部位       0.00      0.00      0.00        40\n",
      "          筛查       0.00      0.00      0.00        39\n",
      "        高危因素       0.50      0.62      0.55       247\n",
      "       影像学检查       0.80      0.90      0.85       272\n",
      "        多发季节       0.00      0.00      0.00        10\n",
      "        就诊科室       0.00      0.00      0.00         3\n",
      "       预后生存率       0.00      0.00      0.00        18\n",
      "         同义词       0.82      0.59      0.69       774\n",
      "      相关（导致）       0.56      0.11      0.19       255\n",
      "         并发症       0.58      0.59      0.58       438\n",
      "        发病机制       0.00      0.00      0.00         5\n",
      "        None       0.96      0.98      0.97     34671\n",
      "\n",
      "    accuracy                           0.92     43648\n",
      "   macro avg       0.46      0.34      0.35     43648\n",
      "weighted avg       0.90      0.92      0.91     43648\n",
      "\n",
      "confusion_matrix_: \n",
      " [[    0     0     0 ...     4     0     9]\n",
      " [    0   113     0 ...     0     0    18]\n",
      " [    0     0     0 ...     1     0     1]\n",
      " ...\n",
      " [    0     0     0 ...   259     0    86]\n",
      " [    0     0     0 ...     0     0     1]\n",
      " [    0     5     0 ...    71     0 33813]]\n",
      "test loss is:0.320993,test acc is:0.915048,f1_score is:0.354290\n",
      "******************\n"
     ]
    }
   ],
   "source": [
    "model.fit(\n",
    "    re_train_dataset,\n",
    "    re_dev_dataset,\n",
    "    epochs=2,\n",
    "    batch_size=32\n",
    ")"
   ]
  },
  {
   "cell_type": "markdown",
   "metadata": {},
   "source": [
    "<br>\n",
    "\n",
    "### 四、模型预测"
   ]
  },
  {
   "cell_type": "code",
   "execution_count": 14,
   "metadata": {},
   "outputs": [],
   "source": [
    "from tqdm import tqdm\n",
    "from ark_nlp.model.re.afea_bert import Predictor\n",
    "\n",
    "afea_re_predictor_instance = Predictor(model.module, tokenizer, re_train_dataset.cat2id)"
   ]
  },
  {
   "cell_type": "code",
   "execution_count": 15,
   "metadata": {},
   "outputs": [],
   "source": [
    "text = '急性胰腺炎@有研究显示，进行早期 ERCP （24 小时内）可以降低梗阻性胆总管结石患者的并发症发生率和死亡率； 但是，对于无胆总管梗阻的胆汁性急性胰腺炎患者，不需要进行早期 ERCP。'\n",
    "entities = [('急性胰腺炎', '疾病', 0, 4), ('ERCP', '检查', 17, 20)]"
   ]
  },
  {
   "cell_type": "code",
   "execution_count": 16,
   "metadata": {},
   "outputs": [
    {
     "data": {
      "text/plain": [
       "[[('急性胰腺炎', '疾病', 0, 4), '影像学检查', ('ERCP', '检查', 17, 20)],\n",
       " [('ERCP', '检查', 17, 20), 'None', ('急性胰腺炎', '疾病', 0, 4)]]"
      ]
     },
     "execution_count": 16,
     "metadata": {},
     "output_type": "execute_result"
    }
   ],
   "source": [
    "afea_re_predictor_instance.predict_one_sample(text, entities, topk=1)"
   ]
  },
  {
   "cell_type": "code",
   "execution_count": null,
   "metadata": {},
   "outputs": [],
   "source": []
  }
 ],
 "metadata": {
  "kernelspec": {
   "display_name": "Python [transformers]",
   "language": "python",
   "name": "transformers"
  },
  "language_info": {
   "codemirror_mode": {
    "name": "ipython",
    "version": 3
   },
   "file_extension": ".py",
   "mimetype": "text/x-python",
   "name": "python",
   "nbconvert_exporter": "python",
   "pygments_lexer": "ipython3",
   "version": "3.6.12"
  }
 },
 "nbformat": 4,
 "nbformat_minor": 4
}
